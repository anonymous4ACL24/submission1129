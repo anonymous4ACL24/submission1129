{
 "cells": [
  {
   "cell_type": "code",
   "execution_count": 1,
   "id": "3eaad109-617b-469c-ace5-93d0059b9796",
   "metadata": {
    "tags": []
   },
   "outputs": [],
   "source": [
    "import os, sys\n",
    "import json\n",
    "import re\n",
    "from clean_text import cleaned_text\n",
    "import tfidf_searching\n",
    "import pandas as pd\n",
    "from multiprocessing import Pool\n",
    "import time\n",
    "from tqdm import tqdm"
   ]
  },
  {
   "cell_type": "code",
   "execution_count": 79,
   "id": "b85103ae-4f32-4402-9753-b4beb35e8591",
   "metadata": {
    "tags": []
   },
   "outputs": [
    {
     "data": {
      "text/plain": [
       "<module 'tfidf_searching' from '/home/chentianyu/libgen/tf-idf/tfidf_searching.py'>"
      ]
     },
     "execution_count": 79,
     "metadata": {},
     "output_type": "execute_result"
    }
   ],
   "source": [
    "import importlib\n",
    "importlib.reload(tfidf_searching)"
   ]
  },
  {
   "cell_type": "code",
   "execution_count": 2,
   "id": "c6dd5fe3-904f-4d1a-95b0-8340ad4ee0b1",
   "metadata": {
    "tags": []
   },
   "outputs": [],
   "source": [
    "with open('{path_to_libgen}/libgen/dataset/npm_reports.json', 'r') as f:\n",
    "    pypi_reports = json.load(f)\n",
    "top_names = set(['npm:'+lib['package']['name'] for report in pypi_reports for lib in report['affected']])"
   ]
  },
  {
   "cell_type": "code",
   "execution_count": 3,
   "id": "c5c99c5f-635c-4cc8-b266-4d199f9c506c",
   "metadata": {
    "tags": []
   },
   "outputs": [],
   "source": [
    "pypi_corpus = pd.DataFrame({'object':list(top_names)})\n",
    "pypi_corpus['token'] = pypi_corpus['object'].apply(lambda x: cleaned_text(x))\n",
    "pypi_corpus = pypi_corpus[pypi_corpus['token'].apply(lambda x: len(x) > 0)]\n",
    "pypi_corpus['token'] = pypi_corpus['token'].apply(lambda x: ' '.join(x))"
   ]
  },
  {
   "cell_type": "code",
   "execution_count": 4,
   "id": "33381498-5238-4e76-ba24-9d67afae5be4",
   "metadata": {
    "tags": []
   },
   "outputs": [],
   "source": [
    "search_engine = tfidf_searching.TfidfSearching(pypi_corpus, 512, 2)"
   ]
  },
  {
   "cell_type": "code",
   "execution_count": 5,
   "id": "9679f47b-d262-444a-9e08-d2974906da0a",
   "metadata": {
    "tags": []
   },
   "outputs": [
    {
     "name": "stderr",
     "output_type": "stream",
     "text": [
      "100%|██████████| 3193/3193 [01:15<00:00, 42.21it/s]\n"
     ]
    }
   ],
   "source": [
    "for vuln in tqdm(pypi_reports):\n",
    "    tokens = cleaned_text(vuln['details'])\n",
    "    vuln['top_k'] = search_engine.search_topk_objects(tokens, [])"
   ]
  },
  {
   "cell_type": "code",
   "execution_count": 6,
   "id": "1b6154f0-e470-4ccc-8a49-01cc7d7165b1",
   "metadata": {
    "tags": []
   },
   "outputs": [
    {
     "name": "stderr",
     "output_type": "stream",
     "text": [
      "100%|██████████| 3193/3193 [00:00<00:00, 12130.30it/s]\n"
     ]
    }
   ],
   "source": [
    "for vuln in tqdm(pypi_reports):\n",
    "    vuln['top_k'] = [{'lib_name': lib, 'website_description': ' '} for lib in vuln['top_k']]"
   ]
  },
  {
   "cell_type": "code",
   "execution_count": 19,
   "id": "703f290f-e82c-4b34-b7dd-96f0e9e67b81",
   "metadata": {
    "tags": []
   },
   "outputs": [
    {
     "name": "stderr",
     "output_type": "stream",
     "text": [
      "100%|██████████| 3193/3193 [00:00<00:00, 438161.71it/s]\n"
     ]
    }
   ],
   "source": [
    "for vuln in tqdm(pypi_reports):\n",
    "    vuln['labels'] = extract_libraries(vuln)"
   ]
  },
  {
   "cell_type": "code",
   "execution_count": 8,
   "id": "7c1b8bd7-0251-4c5f-b417-807d0bb331ff",
   "metadata": {
    "tags": []
   },
   "outputs": [
    {
     "data": {
      "text/plain": [
       "(0.8867375072152064, 0.8867375072152064, 0.8867375072152064)"
      ]
     },
     "execution_count": 8,
     "metadata": {},
     "output_type": "execute_result"
    }
   ],
   "source": [
    "k = 512\n",
    "p = [precision(vuln, vuln['top_k'], k) for vuln in pypi_reports if precision(vuln, vuln['top_k'], k) != None]\n",
    "r = [recall(vuln, vuln['top_k'], k) for vuln in pypi_reports if precision(vuln, vuln['top_k'], k) != None]\n",
    "sum(p) / len(p), sum(r) / len(r), f1_score(sum(p) / len(p), sum(r) / len(r))"
   ]
  },
  {
   "cell_type": "code",
   "execution_count": null,
   "id": "4b8efa31-0890-42d6-80f2-f9461427b3d0",
   "metadata": {},
   "outputs": [],
   "source": []
  },
  {
   "cell_type": "code",
   "execution_count": 13,
   "id": "af1f375e-d9c7-4ffe-9e70-f67711b76c01",
   "metadata": {
    "tags": []
   },
   "outputs": [],
   "source": [
    "train_sep_idx, valid_sep_idx = int(len(pypi_reports) * 3 / 5), int(len(pypi_reports) * 4 / 5)\n",
    "train = pypi_reports[:train_sep_idx]\n",
    "valid = pypi_reports[train_sep_idx:valid_sep_idx]\n",
    "test = pypi_reports[valid_sep_idx:]"
   ]
  },
  {
   "cell_type": "code",
   "execution_count": 20,
   "id": "1d2248c4-5522-4d49-85a8-3c9d99953ce1",
   "metadata": {
    "tags": []
   },
   "outputs": [],
   "source": [
    "target_dir = '{path_to_libgen}/libgen/tf-idf/npm'\n",
    "if not os.path.isdir(target_dir):\n",
    "    os.mkdir(target_dir)\n",
    "    \n",
    "with open(os.path.join(target_dir, 'train.json'), 'w') as f:\n",
    "    json.dump(train, f)\n",
    "with open(os.path.join(target_dir, 'valid.json'), 'w') as f:\n",
    "    json.dump(valid, f)\n",
    "with open(os.path.join(target_dir, 'test.json'), 'w') as f:\n",
    "    json.dump(test, f)"
   ]
  },
  {
   "cell_type": "code",
   "execution_count": 7,
   "id": "5ef4cc57-6c01-4f29-a7aa-ee1ab6897c84",
   "metadata": {
    "tags": []
   },
   "outputs": [],
   "source": [
    "def extract_libraries(vuln):\n",
    "    libs = ['npm:'+lib['package']['name'].lower() for lib in vuln['affected']]\n",
    "    return libs\n",
    "\n",
    "def closest_lib(lib_name):\n",
    "    return lib_name\n",
    "    weights = (1, 4, 4)\n",
    "    global npm_lib_names\n",
    "    if lib_name in npm_lib_names:\n",
    "        return lib_name\n",
    "    distances = [(Levenshtein.distance(lib_name, item,\\\n",
    "                    weights = weights), item) for item in npm_lib_names]\n",
    "    return min(distances)[1]\n",
    "\n",
    "def precision(vuln, pred, k):\n",
    "    # pred = [closest_lib(lib) for lib in pred]\n",
    "    pred = [lib['lib_name'] for lib in pred]\n",
    "    labels = extract_libraries(vuln)\n",
    "    # print('pred: ',pred,'\\nlabels: ', labels)\n",
    "    if len(labels) == 0:\n",
    "        return None\n",
    "    inter = set(labels) & set(pred[:k])\n",
    "    return len(inter) / min(k, len(labels))\n",
    "\n",
    "def recall(vuln, pred, k):\n",
    "    # pred = [closest_lib(lib) for lib in pred]\n",
    "    pred = [lib['lib_name'] for lib in pred]\n",
    "    labels = extract_libraries(vuln)\n",
    "    if len(labels) == 0:\n",
    "        return None\n",
    "    inter = set(labels) & set(pred[:k])\n",
    "    # print(len(inter))\n",
    "    # print(len(inter) / len(labels))\n",
    "    return len(inter) / len(labels)\n",
    "\n",
    "def f1_score(p, r):\n",
    "    return 2*p*r/(p+r)"
   ]
  },
  {
   "cell_type": "code",
   "execution_count": null,
   "id": "2f847b2f-bbeb-4f49-af81-53b5afc789eb",
   "metadata": {},
   "outputs": [],
   "source": []
  },
  {
   "cell_type": "code",
   "execution_count": null,
   "id": "09eef647-7b8a-43c3-adaa-1ec7c3391332",
   "metadata": {},
   "outputs": [],
   "source": []
  },
  {
   "cell_type": "code",
   "execution_count": null,
   "id": "b322cbb7-f1ca-41ad-b932-416e7d465a47",
   "metadata": {},
   "outputs": [],
   "source": []
  },
  {
   "cell_type": "code",
   "execution_count": null,
   "id": "beeec274-965a-41d3-8e2e-23bbcb37ec1d",
   "metadata": {},
   "outputs": [],
   "source": []
  },
  {
   "cell_type": "code",
   "execution_count": null,
   "id": "a5dc3fb4-9e20-46aa-8696-8965f4a7feb6",
   "metadata": {
    "tags": []
   },
   "outputs": [],
   "source": [
    "desc_inputs = [cleaned_text(vuln['details']) for vuln in pypi_reports]\n",
    "with Pool(processes=32) as pool:\n",
    "    tf_idf_res = list(tqdm(pool.imap(search_engine.search_topk_objects, desc_inputs)))"
   ]
  },
  {
   "cell_type": "code",
   "execution_count": 62,
   "id": "27004878-4feb-4f87-b706-79f3f1f67ba1",
   "metadata": {
    "tags": []
   },
   "outputs": [
    {
     "data": {
      "text/plain": [
       "True"
      ]
     },
     "execution_count": 62,
     "metadata": {},
     "output_type": "execute_result"
    }
   ],
   "source": [
    "'tensorflow' in pypi_list"
   ]
  },
  {
   "cell_type": "code",
   "execution_count": null,
   "id": "c664ee78-ae62-4c15-96fa-3bd54448363e",
   "metadata": {
    "tags": []
   },
   "outputs": [],
   "source": [
    "[word.split() for word in search_engine.corpus['token']]"
   ]
  },
  {
   "cell_type": "code",
   "execution_count": 68,
   "id": "c3f6af50-7658-493d-96b7-c024a3560283",
   "metadata": {
    "tags": []
   },
   "outputs": [
    {
     "data": {
      "text/plain": [
       "('tensorflow', 447282)"
      ]
     },
     "execution_count": 68,
     "metadata": {},
     "output_type": "execute_result"
    }
   ],
   "source": [
    "search_engine.lib_name_index['tensorflow']"
   ]
  },
  {
   "cell_type": "code",
   "execution_count": 14,
   "id": "461e30b5-3cd5-46fb-88cd-81a759739da2",
   "metadata": {
    "tags": []
   },
   "outputs": [
    {
     "data": {
      "text/plain": [
       "['tensorflow']"
      ]
     },
     "execution_count": 14,
     "metadata": {},
     "output_type": "execute_result"
    }
   ],
   "source": [
    "cleaned_text('tensorflow')"
   ]
  },
  {
   "cell_type": "code",
   "execution_count": null,
   "id": "cef1326d-8e09-481f-9efe-b3b2b601c35a",
   "metadata": {
    "tags": []
   },
   "outputs": [],
   "source": [
    "search_engine.search_topk_objects(['tensorflow'], [])"
   ]
  },
  {
   "cell_type": "code",
   "execution_count": null,
   "id": "028ae006-dd7e-4eca-8eda-274ad91a358f",
   "metadata": {
    "tags": []
   },
   "outputs": [],
   "source": [
    "search_engine.search_topk_objects(['tensorflow'])"
   ]
  },
  {
   "cell_type": "code",
   "execution_count": null,
   "id": "cf49ae1a-0ebe-4ef0-bd67-f13e164a73b0",
   "metadata": {},
   "outputs": [],
   "source": []
  }
 ],
 "metadata": {
  "kernelspec": {
   "display_name": "Python 3 (ipykernel)",
   "language": "python",
   "name": "python3"
  },
  "language_info": {
   "codemirror_mode": {
    "name": "ipython",
    "version": 3
   },
   "file_extension": ".py",
   "mimetype": "text/x-python",
   "name": "python",
   "nbconvert_exporter": "python",
   "pygments_lexer": "ipython3",
   "version": "3.10.13"
  }
 },
 "nbformat": 4,
 "nbformat_minor": 5
}
