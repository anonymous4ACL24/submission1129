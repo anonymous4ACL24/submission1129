{
 "cells": [
  {
   "cell_type": "code",
   "execution_count": 65,
   "id": "1468628d-bfe6-4632-82ef-46e3aa7c3534",
   "metadata": {
    "tags": []
   },
   "outputs": [],
   "source": [
    "import os, sys\n",
    "import json\n",
    "from tqdm import tqdm"
   ]
  },
  {
   "cell_type": "code",
   "execution_count": 2,
   "id": "e12bca24-6666-4142-a346-66a241ebb75c",
   "metadata": {
    "tags": []
   },
   "outputs": [],
   "source": [
    "github_advisory_path = '{advisory_path}/advisories/github-reviewed/'\n",
    "output_folder = '.'"
   ]
  },
  {
   "cell_type": "code",
   "execution_count": 6,
   "id": "5365b49f-0908-46c2-8a49-368c3ffe736c",
   "metadata": {
    "tags": []
   },
   "outputs": [],
   "source": [
    "vuln_paths = []\n",
    "def extract_vulns(cur_folder):\n",
    "    global vuln_paths\n",
    "    files = os.listdir(cur_folder)\n",
    "    sub_paths = [os.path.join(cur_folder, file) for file in files]\n",
    "    json_paths = [path for path in sub_paths if path.endswith('.json')]\n",
    "    folder_paths = [path for path in sub_paths if os.path.isdir(path)]\n",
    "    \n",
    "    vuln_paths = vuln_paths + json_paths\n",
    "    for path in folder_paths:\n",
    "        extract_vulns(path)\n",
    "extract_vulns(github_advisory_path)"
   ]
  },
  {
   "cell_type": "code",
   "execution_count": 8,
   "id": "b133f1aa-a72e-4a2d-a764-bfc0b8d0ce40",
   "metadata": {
    "tags": []
   },
   "outputs": [
    {
     "name": "stderr",
     "output_type": "stream",
     "text": [
      "100%|██████████| 15614/15614 [00:01<00:00, 15466.73it/s]\n"
     ]
    }
   ],
   "source": [
    "vuln_reports = []\n",
    "for path in tqdm(vuln_paths):\n",
    "    with open(path, 'r') as f:\n",
    "        report = json.load(f)\n",
    "        vuln_reports.append(report)"
   ]
  },
  {
   "cell_type": "code",
   "execution_count": 9,
   "id": "ad003da2-f054-46c5-958e-52b880ff51a2",
   "metadata": {
    "tags": []
   },
   "outputs": [],
   "source": [
    "vuln_report_path = os.path.join(output_folder, 'vuln_reports.json')\n",
    "with open(vuln_report_path, 'w') as f:\n",
    "    json.dump(vuln_reports, f)"
   ]
  },
  {
   "cell_type": "code",
   "execution_count": 41,
   "id": "6a06ff85-03df-431b-9c9c-63485743b1dd",
   "metadata": {
    "tags": []
   },
   "outputs": [],
   "source": [
    "def get_ecosystem(vuln_report):\n",
    "    affecteds = vuln_report['affected']\n",
    "    ecosystems = [entry['package']['ecosystem'] for entry in affecteds]\n",
    "    if len(set(ecosystems)) > 1:\n",
    "        return 'multiple'\n",
    "    elif len(ecosystems) == 0:\n",
    "        return 'unknown'\n",
    "    else:\n",
    "        return ecosystems[0]\n",
    "    \n",
    "def get_libraries(vuln_report):\n",
    "    affecteds = vuln_report['affected']\n",
    "    libraries = [entry['package']['name'] for entry in affecteds]\n",
    "    return list(set(libraries))"
   ]
  },
  {
   "cell_type": "code",
   "execution_count": 34,
   "id": "401c8865-cfff-4c4f-b6e5-4c00f28d6650",
   "metadata": {
    "tags": []
   },
   "outputs": [
    {
     "name": "stdout",
     "output_type": "stream",
     "text": [
      "maven 4308 npm 3193 pypi 2237 go 1351\n"
     ]
    }
   ],
   "source": [
    "maven_reports = [report for report in vuln_reports if get_ecosystem(report) == 'Maven']\n",
    "npm_reports = [report for report in vuln_reports if get_ecosystem(report) == 'npm']\n",
    "pypi_reports = [report for report in vuln_reports if get_ecosystem(report) == 'PyPI']\n",
    "go_reports = [report for report in vuln_reports if get_ecosystem(report) == 'Go']\n",
    "combined_reports = maven_reports + npm_reports + pypi_reports + go_reports\n",
    "\n",
    "print('maven', len(maven_reports), 'npm', len(npm_reports),\n",
    "    'pypi', len(pypi_reports), 'go', len(go_reports))"
   ]
  },
  {
   "cell_type": "code",
   "execution_count": 84,
   "id": "89b8cdd2-cc92-401d-8ad8-562a03c1c5b2",
   "metadata": {
    "tags": []
   },
   "outputs": [
    {
     "data": {
      "text/plain": [
       "(3193, 1915, 639, 639)"
      ]
     },
     "execution_count": 84,
     "metadata": {},
     "output_type": "execute_result"
    }
   ],
   "source": [
    "len(npm_reports), int(len(npm_reports) * 3/5), int(len(npm_reports) * 4/5) - int(len(npm_reports) * 3/5), len(npm_reports) - int(len(npm_reports) * 4/5)"
   ]
  },
  {
   "cell_type": "code",
   "execution_count": 91,
   "id": "bd20e3b8-b636-45a2-bda0-73fdf5b41330",
   "metadata": {
    "tags": []
   },
   "outputs": [
    {
     "data": {
      "text/plain": [
       "601"
      ]
     },
     "execution_count": 91,
     "metadata": {},
     "output_type": "execute_result"
    }
   ],
   "source": [
    "len(set([lib for vuln in go_reports for lib in get_libraries(vuln)]))"
   ]
  },
  {
   "cell_type": "code",
   "execution_count": 85,
   "id": "b1677d9a-eca1-440d-b883-e5ab406ff158",
   "metadata": {
    "tags": []
   },
   "outputs": [
    {
     "data": {
      "text/plain": [
       "(2237, 1342, 447, 448)"
      ]
     },
     "execution_count": 85,
     "metadata": {},
     "output_type": "execute_result"
    }
   ],
   "source": [
    "len(pypi_reports), int(len(pypi_reports) * 3/5), int(len(pypi_reports) * 4/5) - int(len(pypi_reports) * 3/5), len(pypi_reports) - int(len(pypi_reports) * 4/5)"
   ]
  },
  {
   "cell_type": "code",
   "execution_count": 86,
   "id": "e5224b45-b289-46bd-954b-a7d057e4e3a5",
   "metadata": {
    "tags": []
   },
   "outputs": [
    {
     "data": {
      "text/plain": [
       "(1351, 810, 270, 271)"
      ]
     },
     "execution_count": 86,
     "metadata": {},
     "output_type": "execute_result"
    }
   ],
   "source": [
    "len(go_reports), int(len(go_reports) * 3/5), int(len(go_reports) * 4/5) - int(len(go_reports) * 3/5), len(go_reports) - int(len(go_reports) * 4/5)"
   ]
  },
  {
   "cell_type": "code",
   "execution_count": null,
   "id": "6526a48b-7e9d-4fc0-849d-831d293274d4",
   "metadata": {},
   "outputs": [],
   "source": []
  },
  {
   "cell_type": "code",
   "execution_count": 35,
   "id": "d81e8867-2866-4798-a856-d0c153e2446d",
   "metadata": {
    "tags": []
   },
   "outputs": [],
   "source": [
    "maven_report_path = os.path.join(output_folder, 'maven_reports.json')\n",
    "npm_report_path = os.path.join(output_folder, 'npm_reports.json')\n",
    "pypi_report_path = os.path.join(output_folder, 'pypi_reports.json')\n",
    "go_report_path = os.path.join(output_folder, 'go_reports.json')\n",
    "combined_report_path = os.path.join(output_folder, 'combined_reports.json')\n",
    "\n",
    "with open(maven_report_path, 'w') as f:\n",
    "    json.dump(maven_reports, f)\n",
    "with open(npm_report_path, 'w') as f:\n",
    "    json.dump(npm_reports, f)\n",
    "with open(pypi_report_path, 'w') as f:\n",
    "    json.dump(pypi_reports, f)\n",
    "with open(go_report_path, 'w') as f:\n",
    "    json.dump(go_reports, f)\n",
    "with open(combined_report_path, 'w') as f:\n",
    "    json.dump(combined_reports, f)"
   ]
  },
  {
   "cell_type": "code",
   "execution_count": 73,
   "id": "dd88bfe3-2835-46e4-9dba-96e0d67afd81",
   "metadata": {},
   "outputs": [
    {
     "name": "stdout",
     "output_type": "stream",
     "text": [
      "681\n"
     ]
    }
   ],
   "source": [
    "rust_reports = [report for report in vuln_reports if get_ecosystem(report) == 'crates.io']\n",
    "print(len(rust_reports))"
   ]
  },
  {
   "cell_type": "code",
   "execution_count": 74,
   "id": "035d27b4-b705-43a4-97fd-4b09382eef89",
   "metadata": {
    "tags": []
   },
   "outputs": [],
   "source": [
    "rust_report_path = os.path.join(output_folder, 'rust_reports.json')\n",
    "with open(rust_report_path, 'w') as f:\n",
    "    json.dump(rust_reports, f)"
   ]
  },
  {
   "cell_type": "code",
   "execution_count": 75,
   "id": "73983bd9-d654-465a-8015-d825b8cc80f3",
   "metadata": {
    "tags": []
   },
   "outputs": [],
   "source": [
    "rust_cwe = [cwe for report in rust_reports for cwe in report['database_specific']['cwe_ids']]"
   ]
  },
  {
   "cell_type": "code",
   "execution_count": 77,
   "id": "ec07e8be-dc4b-4b1c-82ee-a783a65f22f2",
   "metadata": {
    "tags": []
   },
   "outputs": [],
   "source": [
    "import pandas as pd"
   ]
  },
  {
   "cell_type": "code",
   "execution_count": 78,
   "id": "afb65dc8-4d30-4d73-8a55-c340ea728997",
   "metadata": {
    "tags": []
   },
   "outputs": [],
   "source": [
    "df = pd.DataFrame(rust_cwe)"
   ]
  },
  {
   "cell_type": "code",
   "execution_count": null,
   "id": "99884063-9677-463f-935e-2691c08de083",
   "metadata": {
    "tags": []
   },
   "outputs": [],
   "source": [
    "df.value_counts().index"
   ]
  }
 ],
 "metadata": {
  "kernelspec": {
   "display_name": "Python 3 (ipykernel)",
   "language": "python",
   "name": "python3"
  },
  "language_info": {
   "codemirror_mode": {
    "name": "ipython",
    "version": 3
   },
   "file_extension": ".py",
   "mimetype": "text/x-python",
   "name": "python",
   "nbconvert_exporter": "python",
   "pygments_lexer": "ipython3",
   "version": "3.10.13"
  }
 },
 "nbformat": 4,
 "nbformat_minor": 5
}
