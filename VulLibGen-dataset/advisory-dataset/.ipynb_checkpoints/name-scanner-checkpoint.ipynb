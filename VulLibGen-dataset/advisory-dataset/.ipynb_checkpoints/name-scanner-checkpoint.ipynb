{
 "cells": [
  {
   "cell_type": "code",
   "execution_count": 11,
   "id": "954deb4d-ff09-43c8-8f02-022252b1a108",
   "metadata": {
    "tags": []
   },
   "outputs": [],
   "source": [
    "import os, sys\n",
    "import json\n",
    "from tqdm import tqdm"
   ]
  },
  {
   "cell_type": "code",
   "execution_count": 2,
   "id": "cae6faa2-14b7-42b7-a244-91929c65d85f",
   "metadata": {
    "tags": []
   },
   "outputs": [
    {
     "name": "stderr",
     "output_type": "stream",
     "text": [
      "/home/chentianyu/miniconda3/envs/tianyu/lib/python3.10/site-packages/tqdm/auto.py:21: TqdmWarning: IProgress not found. Please update jupyter and ipywidgets. See https://ipywidgets.readthedocs.io/en/stable/user_install.html\n",
      "  from .autonotebook import tqdm as notebook_tqdm\n"
     ]
    }
   ],
   "source": [
    "from transformers import BertTokenizer"
   ]
  },
  {
   "cell_type": "code",
   "execution_count": 6,
   "id": "4cbca566-bcf1-4aac-8cb9-432d30a775cb",
   "metadata": {
    "tags": []
   },
   "outputs": [],
   "source": [
    "advisory_folder = '{path_to_libgen}/libgen/dataset/'\n",
    "maven_path = os.path.join(advisory_folder, 'maven_reports.json')\n",
    "npm_path = os.path.join(advisory_folder, 'npm_reports.json')\n",
    "pypi_path = os.path.join(advisory_folder, 'pypi_reports.json')\n",
    "go_path = os.path.join(advisory_folder, 'go_reports.json')"
   ]
  },
  {
   "cell_type": "code",
   "execution_count": 9,
   "id": "a7bf2985-8c80-40da-8712-9c862ec641de",
   "metadata": {
    "tags": []
   },
   "outputs": [],
   "source": [
    "with open(maven_path, 'r') as f:\n",
    "    maven_reports = json.load(f)\n",
    "maven_labels = list(set([lib['package']['name'] for vuln in maven_reports for lib in vuln['affected']]))"
   ]
  },
  {
   "cell_type": "code",
   "execution_count": 16,
   "id": "42f5a08b-be2e-4b46-af64-efacf6af6efe",
   "metadata": {
    "tags": []
   },
   "outputs": [],
   "source": [
    "with open(npm_path, 'r') as f:\n",
    "    npm_reports = json.load(f)\n",
    "npm_labels = list(set([lib['package']['name'] for vuln in npm_reports for lib in vuln['affected']]))"
   ]
  },
  {
   "cell_type": "code",
   "execution_count": 17,
   "id": "a13c937e-09b1-4aa8-9c54-1cf7f855ea34",
   "metadata": {
    "tags": []
   },
   "outputs": [],
   "source": [
    "with open(pypi_path, 'r') as f:\n",
    "    pypi_reports = json.load(f)\n",
    "pypi_labels = list(set([lib['package']['name'] for vuln in pypi_reports for lib in vuln['affected']]))"
   ]
  },
  {
   "cell_type": "code",
   "execution_count": 18,
   "id": "20b70112-ee02-4b0a-9db4-8d67d4f2f1ce",
   "metadata": {
    "tags": []
   },
   "outputs": [],
   "source": [
    "with open(go_path, 'r') as f:\n",
    "    go_reports = json.load(f)\n",
    "go_labels = list(set([lib['package']['name'] for vuln in go_reports for lib in vuln['affected']]))"
   ]
  },
  {
   "cell_type": "code",
   "execution_count": 29,
   "id": "3f1b7e94-7dbd-4809-83c6-e64cb6614c57",
   "metadata": {
    "tags": []
   },
   "outputs": [],
   "source": [
    "tokenizer = BertTokenizer.from_pretrained('/home/chentianyu/raw_models/bert-base-uncased/')"
   ]
  },
  {
   "cell_type": "code",
   "execution_count": 25,
   "id": "cc878472-2e83-4be1-9192-df69f6b070c2",
   "metadata": {
    "tags": []
   },
   "outputs": [],
   "source": [
    "go_labels_reduced = [lib.replace('https://', '').replace('github.com/', '') for lib in go_labels]"
   ]
  },
  {
   "cell_type": "code",
   "execution_count": 24,
   "id": "1632cfd3-ba41-4f3f-a10a-060c37224642",
   "metadata": {
    "tags": []
   },
   "outputs": [
    {
     "name": "stderr",
     "output_type": "stream",
     "text": [
      "100%|██████████| 2015/2015 [00:00<00:00, 7228.46it/s]\n"
     ]
    }
   ],
   "source": [
    "maven_length = []\n",
    "for lib in tqdm(maven_labels):\n",
    "    maven_length.append(len(tokenizer.tokenize(lib)))"
   ]
  },
  {
   "cell_type": "code",
   "execution_count": 19,
   "id": "af52419d-f943-4e12-af77-968e3043e18a",
   "metadata": {
    "tags": []
   },
   "outputs": [
    {
     "name": "stderr",
     "output_type": "stream",
     "text": [
      "100%|██████████| 2335/2335 [00:00<00:00, 14448.52it/s]\n"
     ]
    }
   ],
   "source": [
    "npm_length = []\n",
    "for lib in tqdm(npm_labels):\n",
    "    npm_length.append(len(tokenizer.tokenize(lib)))"
   ]
  },
  {
   "cell_type": "code",
   "execution_count": 20,
   "id": "2171d57c-5456-4c64-8129-e59c833784d7",
   "metadata": {
    "tags": []
   },
   "outputs": [
    {
     "name": "stderr",
     "output_type": "stream",
     "text": [
      "100%|██████████| 710/710 [00:00<00:00, 14186.82it/s]\n"
     ]
    }
   ],
   "source": [
    "pypi_length = []\n",
    "for lib in tqdm(pypi_labels):\n",
    "    pypi_length.append(len(tokenizer.tokenize(lib)))"
   ]
  },
  {
   "cell_type": "code",
   "execution_count": 28,
   "id": "7d9edba9-173e-4585-b027-fae4451de80b",
   "metadata": {
    "tags": []
   },
   "outputs": [
    {
     "name": "stderr",
     "output_type": "stream",
     "text": [
      "100%|██████████| 601/601 [00:00<00:00, 8010.71it/s]\n"
     ]
    }
   ],
   "source": [
    "go_length = []\n",
    "for lib in tqdm(go_labels):\n",
    "    go_length.append(len(tokenizer.tokenize(lib)))"
   ]
  },
  {
   "cell_type": "code",
   "execution_count": 26,
   "id": "66fa53fa-e6c8-4c3a-83dd-45dec201d3d4",
   "metadata": {
    "tags": []
   },
   "outputs": [
    {
     "name": "stderr",
     "output_type": "stream",
     "text": [
      "100%|██████████| 601/601 [00:00<00:00, 10395.86it/s]\n"
     ]
    }
   ],
   "source": [
    "go_length_reduced = []\n",
    "for lib in tqdm(go_labels_reduced):\n",
    "    go_length_reduced.append(len(tokenizer.tokenize(lib)))"
   ]
  },
  {
   "cell_type": "code",
   "execution_count": 22,
   "id": "19ab0058-c6f9-4e07-b8b3-07ef9844cb9e",
   "metadata": {
    "tags": []
   },
   "outputs": [
    {
     "data": {
      "text/plain": [
       "(13.439205955334987, 4.5610278372591)"
      ]
     },
     "execution_count": 22,
     "metadata": {},
     "output_type": "execute_result"
    }
   ],
   "source": [
    "sum(maven_length) / len(maven_length), sum(npm_length) / len(npm_length)"
   ]
  },
  {
   "cell_type": "code",
   "execution_count": 23,
   "id": "8557d4e9-67a5-4da3-9d08-ce779db9b0da",
   "metadata": {
    "tags": []
   },
   "outputs": [
    {
     "data": {
      "text/plain": [
       "(3.9591549295774646, 13.602329450915141)"
      ]
     },
     "execution_count": 23,
     "metadata": {},
     "output_type": "execute_result"
    }
   ],
   "source": [
    "sum(pypi_length) / len(pypi_length), sum(go_length) / len(go_length)"
   ]
  },
  {
   "cell_type": "code",
   "execution_count": 27,
   "id": "51234be3-adbd-4a4d-a1e7-bbb031b56ce7",
   "metadata": {
    "tags": []
   },
   "outputs": [
    {
     "data": {
      "text/plain": [
       "8.24126455906822"
      ]
     },
     "execution_count": 27,
     "metadata": {},
     "output_type": "execute_result"
    }
   ],
   "source": [
    "sum(go_length_reduced) / len(go_length_reduced)"
   ]
  },
  {
   "cell_type": "code",
   "execution_count": null,
   "id": "3d7c34a1-a3c0-4aca-a0f1-09ab7556b3a7",
   "metadata": {},
   "outputs": [],
   "source": []
  },
  {
   "cell_type": "code",
   "execution_count": null,
   "id": "ef5bfadc-74d3-4869-b799-0c09603d7598",
   "metadata": {},
   "outputs": [],
   "source": []
  }
 ],
 "metadata": {
  "kernelspec": {
   "display_name": "Python 3 (ipykernel)",
   "language": "python",
   "name": "python3"
  },
  "language_info": {
   "codemirror_mode": {
    "name": "ipython",
    "version": 3
   },
   "file_extension": ".py",
   "mimetype": "text/x-python",
   "name": "python",
   "nbconvert_exporter": "python",
   "pygments_lexer": "ipython3",
   "version": "3.10.13"
  }
 },
 "nbformat": 4,
 "nbformat_minor": 5
}
