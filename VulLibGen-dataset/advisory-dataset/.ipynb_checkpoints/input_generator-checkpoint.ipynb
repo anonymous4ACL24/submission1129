{
 "cells": [
  {
   "cell_type": "code",
   "execution_count": 52,
   "id": "8d963f68-0785-405a-96c0-82b85a86322d",
   "metadata": {
    "tags": []
   },
   "outputs": [],
   "source": [
    "import os, sys\n",
    "import json"
   ]
  },
  {
   "cell_type": "code",
   "execution_count": 53,
   "id": "109393ee-a695-48ba-817f-3b139bcd3f88",
   "metadata": {
    "tags": []
   },
   "outputs": [],
   "source": [
    "with open('{path_to_libgen}/libgen/dataset/npm_reports.json', 'r') as f:\n",
    "    reports = json.load(f)\n",
    "language = 'npm'"
   ]
  },
  {
   "cell_type": "code",
   "execution_count": 39,
   "id": "b4562c8c-7abc-4a1e-9214-e96d68962110",
   "metadata": {
    "tags": []
   },
   "outputs": [],
   "source": [
    "with open('{path_to_libgen}/libgen/dataset/pypi_reports.json', 'r') as f:\n",
    "    reports = json.load(f)\n",
    "language = 'pypi'"
   ]
  },
  {
   "cell_type": "code",
   "execution_count": 13,
   "id": "e5c51d99-a6e6-491a-8495-82406856ef7a",
   "metadata": {
    "tags": []
   },
   "outputs": [],
   "source": [
    "with open('{path_to_libgen}/libgen/dataset/go_reports.json', 'r') as f:\n",
    "    reports = json.load(f)\n",
    "language = 'go'"
   ]
  },
  {
   "cell_type": "code",
   "execution_count": 54,
   "id": "17504713-afe4-47ab-98dc-61cc800c1c00",
   "metadata": {
    "tags": []
   },
   "outputs": [],
   "source": [
    "with open('{path_to_libgen}/libgen/chatgpt/rerank_1/npm_rerank_1.json', 'r') as f:\n",
    "    rerank = json.load(f)"
   ]
  },
  {
   "cell_type": "code",
   "execution_count": 40,
   "id": "798aebc4-e274-4371-b9cf-2ba27a90c300",
   "metadata": {
    "tags": []
   },
   "outputs": [],
   "source": [
    "with open('{path_to_libgen}/libgen/chatgpt/rerank_1/pypi_rerank_1.json', 'r') as f:\n",
    "    rerank = json.load(f)"
   ]
  },
  {
   "cell_type": "code",
   "execution_count": 3,
   "id": "7a0ea298-333c-4e12-969b-d364477666fa",
   "metadata": {
    "tags": []
   },
   "outputs": [],
   "source": [
    "with open('{path_to_libgen}/libgen/chatgpt/rerank_1/go_rerank_1.json', 'r') as f:\n",
    "    rerank = json.load(f)"
   ]
  },
  {
   "cell_type": "code",
   "execution_count": 55,
   "id": "8102d21b-5b35-4e7f-91d3-2bf24bd25721",
   "metadata": {
    "tags": []
   },
   "outputs": [],
   "source": [
    "length = len(reports)\n",
    "train = reports[:length * 3 // 5]\n",
    "valid = reports[length * 3 // 5: length * 4 // 5]\n",
    "test = reports[length * 4 // 5:]"
   ]
  },
  {
   "cell_type": "code",
   "execution_count": 56,
   "id": "91daaa49-fb35-41c1-9044-ce6a82443d31",
   "metadata": {
    "tags": []
   },
   "outputs": [],
   "source": [
    "def raw_query(vuln, language, recommend):\n",
    "    if language == 'maven':\n",
    "        prompt = 'Below is a Java vulnerability description. Please identify the software name affected by it. ' + \\\n",
    "            f'Input: {vuln[\"details\"]}. Top 1 search result is {recommend}. ' + \\\n",
    "            'What is the affected package?'\n",
    "    elif language == 'npm':\n",
    "        prompt = 'Below is a JavaScript vulnerability description. Please identify the software name affected by it. ' + \\\n",
    "            f'Input: {vuln[\"details\"]}. Top 1 search result is {recommend}. ' + \\\n",
    "            'What is the affected package?'\n",
    "    elif language == 'pypi':\n",
    "        prompt = 'Below is a Python vulnerability description. Please identify the software name affected by it. ' + \\\n",
    "            f'Input: {vuln[\"details\"]}. Top 1 search result is {recommend}. ' + \\\n",
    "            'What is the affected package?'\n",
    "    elif language == 'go':\n",
    "        prompt = 'Below is a Go vulnerability description. Please identify the software name affected by it. ' + \\\n",
    "            f'Input: {vuln[\"details\"]}. Top 1 search result is {recommend}. ' + \\\n",
    "            'What is the affected package?'\n",
    "    return prompt\n",
    "#     return requestChatCompletion(prompt, t=0, engine='gpt-35-turbo')\n",
    "def raw_answer(vuln, language):\n",
    "    packages = [language+':'+lib['package']['name'] for lib in vuln['affected']]\n",
    "    package_text = ' '.join(packages)\n",
    "    return f'The affected package is {package_text}.'"
   ]
  },
  {
   "cell_type": "code",
   "execution_count": 57,
   "id": "16fefe9b-008c-4b36-b06b-902bf49cfa37",
   "metadata": {
    "tags": []
   },
   "outputs": [],
   "source": [
    "def generate_input(reports, reranks):\n",
    "    conversations = [{'id': vuln['id'], 'conversations': []} for vuln in reports]\n",
    "    for conv, vuln, rerank in zip(conversations, reports, reranks):\n",
    "        conv['conversations'] = [{'from':'human', 'value':raw_query(vuln, language, rerank[1])}\\\n",
    "                                 , {'from':'gpt', 'value':raw_answer(vuln, language)}]\n",
    "    return conversations"
   ]
  },
  {
   "cell_type": "code",
   "execution_count": 58,
   "id": "021c70dc-ad78-45ff-828e-ea3473ed47db",
   "metadata": {
    "tags": []
   },
   "outputs": [],
   "source": [
    "train_conversations = generate_input(train, rerank['train'])\n",
    "valid_conversations = generate_input(valid, rerank['valid'])\n",
    "test_conversations = generate_input(test, rerank['test'])"
   ]
  },
  {
   "cell_type": "code",
   "execution_count": 59,
   "id": "592b6f26-2231-4ee1-95fd-c6afbaae869d",
   "metadata": {
    "tags": []
   },
   "outputs": [],
   "source": [
    "target_folder = '{path_to_libgen}/libgen/inputs/npm/'\n",
    "if not os.path.isdir(target_folder):\n",
    "    os.mkdir(target_folder)\n",
    "with open(os.path.join(target_folder, 'train.json'), 'w') as f:\n",
    "    json.dump(train_conversations, f)\n",
    "with open(os.path.join(target_folder, 'valid.json'), 'w') as f:\n",
    "    json.dump(valid_conversations, f)\n",
    "with open(os.path.join(target_folder, 'test.json'), 'w') as f:\n",
    "    json.dump(test_conversations, f)"
   ]
  },
  {
   "cell_type": "code",
   "execution_count": null,
   "id": "fa6d2169-47b6-4a62-95e0-3c884124eeec",
   "metadata": {
    "tags": []
   },
   "outputs": [],
   "source": [
    "train_conversations[0]"
   ]
  },
  {
   "cell_type": "code",
   "execution_count": 11,
   "id": "5aeeaef2-1dab-4fbf-b3b3-1c2b16dfdb23",
   "metadata": {
    "tags": []
   },
   "outputs": [
    {
     "data": {
      "text/plain": [
       "(810, 270, 271, 810, 270, 271)"
      ]
     },
     "execution_count": 11,
     "metadata": {},
     "output_type": "execute_result"
    }
   ],
   "source": [
    "len(train), len(valid), len(test),\\\n",
    "len(rerank['train']), len(rerank['valid']), len(rerank['test'])"
   ]
  },
  {
   "cell_type": "code",
   "execution_count": null,
   "id": "bff6fe4a-a829-4572-97f3-87e29a164da8",
   "metadata": {},
   "outputs": [],
   "source": []
  }
 ],
 "metadata": {
  "kernelspec": {
   "display_name": "Python 3 (ipykernel)",
   "language": "python",
   "name": "python3"
  },
  "language_info": {
   "codemirror_mode": {
    "name": "ipython",
    "version": 3
   },
   "file_extension": ".py",
   "mimetype": "text/x-python",
   "name": "python",
   "nbconvert_exporter": "python",
   "pygments_lexer": "ipython3",
   "version": "3.10.13"
  }
 },
 "nbformat": 4,
 "nbformat_minor": 5
}
