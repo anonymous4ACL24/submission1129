{
 "cells": [
  {
   "cell_type": "code",
   "execution_count": 9,
   "id": "2497d1eb-b647-414d-ac92-40d311c6fc7b",
   "metadata": {
    "tags": []
   },
   "outputs": [],
   "source": [
    "import os, sys\n",
    "import json\n",
    "import re\n",
    "import Levenshtein\n",
    "from tqdm import tqdm\n",
    "from multiprocessing import Pool\n",
    "import time"
   ]
  },
  {
   "cell_type": "code",
   "execution_count": 2,
   "id": "9ad56096-cb05-4345-a5d5-27f6cfce7d38",
   "metadata": {
    "tags": []
   },
   "outputs": [],
   "source": [
    "input_folder = '{path_to_libgen}/libgen/VulLib'\n",
    "train_path = os.path.join(input_folder, 'train.json')\n",
    "valid_path = os.path.join(input_folder, 'valid.json')\n",
    "test_path = os.path.join(input_folder, 'test.json')\n",
    "maven_path = os.path.join(input_folder, 'maven_corpus_new.json')"
   ]
  },
  {
   "cell_type": "code",
   "execution_count": 3,
   "id": "5f63d09a-8340-487c-9b2f-6039a500fae6",
   "metadata": {
    "tags": []
   },
   "outputs": [],
   "source": [
    "with open(train_path, 'r') as f:\n",
    "    train = json.load(f)\n",
    "with open(valid_path, 'r') as f:\n",
    "    valid = json.load(f)\n",
    "with open(test_path, 'r') as f:\n",
    "    test = json.load(f) \n",
    "vulns = train + valid + test"
   ]
  },
  {
   "cell_type": "code",
   "execution_count": 4,
   "id": "0ca6cdd2-f37b-4ea9-9c48-2a5dfeceb227",
   "metadata": {
    "tags": []
   },
   "outputs": [],
   "source": [
    "lib_names = set([lib[6:] for vuln in vulns for lib in vuln['labels']])"
   ]
  },
  {
   "cell_type": "code",
   "execution_count": 4,
   "id": "43390e20-7635-49ba-a5fa-d8e27e7b0d38",
   "metadata": {
    "tags": []
   },
   "outputs": [],
   "source": [
    "with open(maven_path, 'r') as f:\n",
    "    maven_corpus = json.load(f)\n",
    "lib_names = set([lib['name'] for lib in maven_corpus])"
   ]
  },
  {
   "cell_type": "code",
   "execution_count": 5,
   "id": "e8142298-d725-4d7a-a910-203abc340b65",
   "metadata": {
    "tags": []
   },
   "outputs": [],
   "source": [
    "artifacts = {item.split(':')[-1]: set() for item in lib_names}\n",
    "for item in lib_names:\n",
    "    components = item.split(':')\n",
    "    artifacts[components[-1]].add(item)"
   ]
  },
  {
   "cell_type": "code",
   "execution_count": 351,
   "id": "b423290e-9538-4475-8f2e-3e035483c671",
   "metadata": {
    "tags": []
   },
   "outputs": [],
   "source": [
    "with open('response/1_res_gpt-35-turbo.json', 'r') as f:\n",
    "    res = json.load(f)"
   ]
  },
  {
   "cell_type": "code",
   "execution_count": 268,
   "id": "58f50b58-f0f5-42b7-8645-cbbf9f39fa31",
   "metadata": {
    "tags": []
   },
   "outputs": [],
   "source": [
    "with open('response/20_res_gpt-35-turbo.json', 'r') as f:\n",
    "    res = json.load(f)"
   ]
  },
  {
   "cell_type": "code",
   "execution_count": 18,
   "id": "746e83b1-1c4c-4237-84cb-6a883d130d9f",
   "metadata": {
    "tags": []
   },
   "outputs": [],
   "source": [
    "with open('response/0_res_gpt-4-1106-preview.json', 'r') as f:\n",
    "    res = json.load(f)"
   ]
  },
  {
   "cell_type": "code",
   "execution_count": 16,
   "id": "24fb76b0-e334-4a97-89ba-c0028c3a06a2",
   "metadata": {
    "tags": []
   },
   "outputs": [],
   "source": [
    "with open('response/1_res_gpt-4-1106-preview.json', 'r') as f:\n",
    "    res = json.load(f)"
   ]
  },
  {
   "cell_type": "code",
   "execution_count": 6,
   "id": "bc8f4cb9-a754-4cc3-939d-0a611767044c",
   "metadata": {
    "tags": []
   },
   "outputs": [],
   "source": [
    "with open('response/0_res_gpt-35-turbo.json', 'r') as f:\n",
    "    res = json.load(f)"
   ]
  },
  {
   "cell_type": "code",
   "execution_count": 7,
   "id": "ba27b7ab-e16d-444c-974b-959d0620461f",
   "metadata": {
    "tags": []
   },
   "outputs": [],
   "source": [
    "maven_regex = 'maven:[-.\\w]+:[-.\\w]+'\n",
    "for item in res:\n",
    "    item['top_k'] = re.findall(maven_regex, item['top_res'][0])\n",
    "    item['rerank_k'] = re.findall(maven_regex, item['rerank_res'][0])"
   ]
  },
  {
   "cell_type": "code",
   "execution_count": 15,
   "id": "2ce12a34-3b45-4ade-80e2-ceb43a5ff2a5",
   "metadata": {},
   "outputs": [
    {
     "name": "stderr",
     "output_type": "stream",
     "text": [
      "5448it [00:22, 240.51it/s]"
     ]
    },
    {
     "name": "stdout",
     "output_type": "stream",
     "text": [
      "0.4292682926829268 0.31743559416560524 0.3578981245102315\n",
      "0.5365853658536586 0.3980324115946208 0.44483988203837055\n"
     ]
    },
    {
     "name": "stderr",
     "output_type": "stream",
     "text": [
      "\n"
     ]
    }
   ],
   "source": [
    "maven_regex = 'maven:[-.\\w]+:[-.\\w]+'\n",
    "for item in res:\n",
    "    item['top_k'] = re.findall(maven_regex, item['top_res'][0])\n",
    "    item['rerank_k'] = re.findall(maven_regex, item['rerank_res'][0])\n",
    "    \n",
    "target = [lib for vuln in res for lib in vuln['rerank_k']]\n",
    "\n",
    "with Pool(processes=32) as pool:\n",
    "    result = list(tqdm(pool.imap(closest_lib, target)))\n",
    "    \n",
    "idx = 0\n",
    "for vuln in res:\n",
    "    vuln['rerank_k_post'] = []\n",
    "    for lib in vuln['rerank_k']:\n",
    "        vuln['rerank_k_post'].append('maven:'+result[idx])\n",
    "        idx = idx + 1\n",
    "\n",
    "k = 1\n",
    "p = [precision(vuln, response['rerank_k'], k) for (vuln, response) in zip(vulns, res) if precision(vuln, response['top_k'], 1) != None]\n",
    "r = [recall(vuln, response['rerank_k'], k) for (vuln, response) in zip(vulns, res) if recall(vuln, response['top_k'], 1) != None]\n",
    "print(sum(p[:205]) / len(p[:205]), sum(r) / len(r), f1_score(sum(p) / len(p), sum(r) / len(r)))\n",
    "\n",
    "k = 1\n",
    "p = [precision(vuln, response['rerank_k_post'], k) for (vuln, response) in zip(vulns, res) if precision(vuln, response['top_k'], 1) != None]\n",
    "r = [recall(vuln, response['rerank_k_post'], k) for (vuln, response) in zip(vulns, res) if recall(vuln, response['top_k'], 1) != None]\n",
    "print(sum(p[:205]) / len(p[:205]), sum(r) / len(r), f1_score(sum(p) / len(p), sum(r) / len(r)))"
   ]
  },
  {
   "cell_type": "code",
   "execution_count": 348,
   "id": "283b5cce-8d97-49a5-bfd7-fd666012607f",
   "metadata": {
    "tags": []
   },
   "outputs": [
    {
     "name": "stderr",
     "output_type": "stream",
     "text": [
      "8939it [00:00, 23891.91it/s]\n"
     ]
    },
    {
     "name": "stdout",
     "output_type": "stream",
     "text": [
      "0.5525277877375403 0.4294613089790577 0.483282976893477\n",
      "0.637863033345285 0.4979036590277177 0.5592598205139719\n"
     ]
    }
   ],
   "source": [
    "maven_regex = 'maven:[-.\\w]+:[-.\\w]+'\n",
    "for item in res:\n",
    "    item['top_k'] = re.findall(maven_regex, item['top_res'][0])\n",
    "    item['rerank_k'] = re.findall(maven_regex, item['rerank_res'][0])\n",
    "    \n",
    "target = [lib for vuln in res for lib in vuln['top_k']]\n",
    "\n",
    "with Pool(processes=32) as pool:\n",
    "    result = list(tqdm(pool.imap(closest_lib, target)))\n",
    "    \n",
    "idx = 0\n",
    "for vuln in res:\n",
    "    vuln['top_k_post'] = []\n",
    "    for lib in vuln['top_k']:\n",
    "        vuln['top_k_post'].append('maven:'+result[idx])\n",
    "        idx = idx + 1\n",
    "\n",
    "k = 1\n",
    "p = [precision(vuln, response['top_k'], k) for (vuln, response) in zip(vulns, res) if precision(vuln, response['top_k'], 1) != None]\n",
    "r = [recall(vuln, response['top_k'], k) for (vuln, response) in zip(vulns, res) if recall(vuln, response['top_k'], 1) != None]\n",
    "print(sum(p) / len(p), sum(r) / len(r), f1_score(sum(p) / len(p), sum(r) / len(r)))\n",
    "\n",
    "k = 1\n",
    "p = [precision(vuln, response['top_k_post'], k) for (vuln, response) in zip(vulns, res) if precision(vuln, response['top_k'], 1) != None]\n",
    "r = [recall(vuln, response['top_k_post'], k) for (vuln, response) in zip(vulns, res) if recall(vuln, response['top_k'], 1) != None]\n",
    "print(sum(p) / len(p), sum(r) / len(r), f1_score(sum(p) / len(p), sum(r) / len(r)))"
   ]
  },
  {
   "cell_type": "code",
   "execution_count": 11,
   "id": "c261b460-2684-4fc6-a249-714836486349",
   "metadata": {
    "tags": []
   },
   "outputs": [],
   "source": [
    "weights = (1, 2, 2)\n",
    "\n",
    "def cloest_artifact(artifact_id):\n",
    "    global artifacts, weights\n",
    "    if artifact_id in artifacts:\n",
    "        return artifact_id\n",
    "\n",
    "    distances = [(Levenshtein.distance(artifact_id, item,\\\n",
    "                    weights = weights), item) for item in artifacts]\n",
    "    return min(distances)[1]\n",
    "\n",
    "def cloest_group(group_id, groups):\n",
    "    if len(groups) == 0:\n",
    "        return group_id\n",
    "    if len(groups) == 1:\n",
    "        return next(iter(groups))\n",
    "    \n",
    "    global weights\n",
    "    distances = [(Levenshtein.distance(group_id, item.split(':')[-2],\\\n",
    "                    weights = weights), item) for item in groups]\n",
    "    return min(distances)[1]\n",
    "\n",
    "\n",
    "def closest_lib(label):\n",
    "    global lib_names\n",
    "    if label in lib_names:\n",
    "        return label\n",
    "    if len(label.split(':')) > 1:\n",
    "        group_id, artifact_id = label.split(':')[-2], label.split(':')[-1]\n",
    "    else:\n",
    "        group_id, artifact_id = \"\", label.split(':')[-1]\n",
    "    if artifact_id in artifacts:\n",
    "        return cloest_group(group_id, artifacts[artifact_id])\n",
    "    else:\n",
    "        advanced_artifact_id = cloest_artifact(artifact_id)\n",
    "        return cloest_group(group_id, artifacts[advanced_artifact_id])"
   ]
  },
  {
   "cell_type": "code",
   "execution_count": 27,
   "id": "3ebbe0f8-644e-4d37-9839-b014edf3251c",
   "metadata": {
    "tags": []
   },
   "outputs": [
    {
     "data": {
      "text/plain": [
       "311233"
      ]
     },
     "execution_count": 27,
     "metadata": {},
     "output_type": "execute_result"
    }
   ],
   "source": [
    "len(lib_names)"
   ]
  },
  {
   "cell_type": "code",
   "execution_count": 31,
   "id": "81e0d7d4-144e-471e-b859-3aeeb4cc476c",
   "metadata": {
    "tags": []
   },
   "outputs": [
    {
     "data": {
      "text/plain": [
       "True"
      ]
     },
     "execution_count": 31,
     "metadata": {},
     "output_type": "execute_result"
    }
   ],
   "source": [
    "'org.springframework:spring-core' in lib_names"
   ]
  },
  {
   "cell_type": "code",
   "execution_count": 189,
   "id": "48762cdb-dcdc-4b45-aeac-77333e2f7e4d",
   "metadata": {
    "tags": []
   },
   "outputs": [],
   "source": [
    "target = [lib for vuln in res for lib in vuln['top_k']]"
   ]
  },
  {
   "cell_type": "code",
   "execution_count": 271,
   "id": "61dcc81e-73e7-43cb-bb49-17dfa0390718",
   "metadata": {
    "tags": []
   },
   "outputs": [],
   "source": [
    "target = [lib for vuln in res for lib in vuln['rerank_k']]"
   ]
  },
  {
   "cell_type": "code",
   "execution_count": 138,
   "id": "fac305b3-9767-44df-8f26-50f45625a71b",
   "metadata": {
    "tags": []
   },
   "outputs": [],
   "source": [
    "target = [lib for vuln in res[-633:] for lib in vuln['rerank_k']]"
   ]
  },
  {
   "cell_type": "code",
   "execution_count": 219,
   "id": "c433aa5f-7d62-41f6-bcbd-0788284e1ac5",
   "metadata": {
    "tags": []
   },
   "outputs": [
    {
     "data": {
      "text/plain": [
       "'maven:org.jgroups:jgroups'"
      ]
     },
     "execution_count": 219,
     "metadata": {},
     "output_type": "execute_result"
    }
   ],
   "source": [
    "target[0]"
   ]
  },
  {
   "cell_type": "code",
   "execution_count": 272,
   "id": "323f4b77-be59-4304-a205-317e0b274f31",
   "metadata": {
    "tags": []
   },
   "outputs": [
    {
     "name": "stderr",
     "output_type": "stream",
     "text": [
      "11528it [00:00, 27525.60it/s]\n"
     ]
    }
   ],
   "source": [
    "with Pool(processes=32) as pool:\n",
    "    result = list(tqdm(pool.imap(closest_lib, target)))"
   ]
  },
  {
   "cell_type": "code",
   "execution_count": 12,
   "id": "fdaf2c53-f26c-47e0-8728-12e4e19657bd",
   "metadata": {
    "tags": []
   },
   "outputs": [],
   "source": [
    "def precision(vuln, pred, k):\n",
    "    labels = vuln['labels']\n",
    "    if len(labels) == 0:\n",
    "        return None\n",
    "    inter = set(labels) & set(pred[:k])\n",
    "    return len(inter) / min(k, len(labels))\n",
    "\n",
    "def recall(vuln, pred, k):\n",
    "    labels = vuln['labels']\n",
    "    if len(labels) == 0:\n",
    "        return None\n",
    "    inter = set(labels) & set(pred[:k])\n",
    "    return len(inter) / len(labels)\n",
    "\n",
    "def f1_score(p, r):\n",
    "    return 2*p*r/(p+r)"
   ]
  },
  {
   "cell_type": "code",
   "execution_count": 191,
   "id": "81fe67e9-fa30-419a-86d1-f0b5b929aef8",
   "metadata": {
    "tags": []
   },
   "outputs": [],
   "source": [
    "idx = 0\n",
    "for vuln in res:\n",
    "    vuln['top_k_post'] = []\n",
    "    for lib in vuln['top_k']:\n",
    "        vuln['top_k_post'].append('maven:'+result[idx])\n",
    "        idx = idx + 1"
   ]
  },
  {
   "cell_type": "code",
   "execution_count": 273,
   "id": "704cf738-31c0-471a-8385-0f2f684feada",
   "metadata": {
    "tags": []
   },
   "outputs": [],
   "source": [
    "idx = 0\n",
    "for vuln in res:\n",
    "    vuln['rerank_k_post'] = []\n",
    "    for lib in vuln['rerank_k']:\n",
    "        vuln['rerank_k_post'].append('maven:'+result[idx])\n",
    "        idx = idx + 1"
   ]
  },
  {
   "cell_type": "code",
   "execution_count": 141,
   "id": "9fdb7b89-1526-4756-9651-b1446b39489f",
   "metadata": {
    "tags": []
   },
   "outputs": [],
   "source": [
    "idx = 0\n",
    "for vuln in res[-633:]:\n",
    "    vuln['rerank_k_post'] = []\n",
    "    for lib in vuln['rerank_k']:\n",
    "        vuln['rerank_k_post'].append('maven:'+result[idx])\n",
    "        idx = idx + 1"
   ]
  },
  {
   "cell_type": "code",
   "execution_count": 274,
   "id": "afa7ca90-ccad-4d4d-9d80-84db54fc7010",
   "metadata": {},
   "outputs": [
    {
     "data": {
      "text/plain": [
       "(0.7339548225170311, 0.5579836975767412, 0.6339850067983246)"
      ]
     },
     "execution_count": 274,
     "metadata": {},
     "output_type": "execute_result"
    }
   ],
   "source": [
    "k = 1\n",
    "p = [precision(vuln, response['rerank_k'], k) for (vuln, response) in zip(vulns, res) if precision(vuln, response['top_k'], 1) != None]\n",
    "r = [recall(vuln, response['rerank_k'], k) for (vuln, response) in zip(vulns, res) if recall(vuln, response['top_k'], 1) != None]\n",
    "sum(p) / len(p), sum(r) / len(r), f1_score(sum(p) / len(p), sum(r) / len(r))"
   ]
  },
  {
   "cell_type": "code",
   "execution_count": 275,
   "id": "c6e58247-831a-4d14-8814-ed846c7e1fd1",
   "metadata": {
    "tags": []
   },
   "outputs": [
    {
     "data": {
      "text/plain": [
       "(0.7923987092147723, 0.6032001788366068, 0.684974812176334)"
      ]
     },
     "execution_count": 275,
     "metadata": {},
     "output_type": "execute_result"
    }
   ],
   "source": [
    "k = 1\n",
    "p = [precision(vuln, response['rerank_k_post'], k) for (vuln, response) in zip(vulns, res) if precision(vuln, response['top_k'], 1) != None]\n",
    "r = [recall(vuln, response['rerank_k_post'], k) for (vuln, response) in zip(vulns, res) if recall(vuln, response['top_k'], 1) != None]\n",
    "sum(p) / len(p), sum(r) / len(r), f1_score(sum(p) / len(p), sum(r) / len(r))"
   ]
  },
  {
   "cell_type": "code",
   "execution_count": 208,
   "id": "3c9530c8-8ed7-43fc-8448-c06eaf917604",
   "metadata": {
    "tags": []
   },
   "outputs": [
    {
     "data": {
      "text/plain": [
       "(0.7303693079956974, 0.553230329754173, 0.6295770756263251)"
      ]
     },
     "execution_count": 208,
     "metadata": {},
     "output_type": "execute_result"
    }
   ],
   "source": [
    "k = 1\n",
    "p = [precision(vuln, response['rerank_k'], k) for (vuln, response) in zip(vulns, res) if precision(vuln, response['top_k'], 1) != None]\n",
    "r = [recall(vuln, response['rerank_k'], k) for (vuln, response) in zip(vulns, res) if recall(vuln, response['top_k'], 1) != None]\n",
    "sum(p) / len(p), sum(r) / len(r), f1_score(sum(p) / len(p), sum(r) / len(r))"
   ]
  },
  {
   "cell_type": "code",
   "execution_count": 210,
   "id": "7986bd92-3b96-4dcb-b9c3-ed4a5f0a6123",
   "metadata": {
    "tags": []
   },
   "outputs": [
    {
     "data": {
      "text/plain": [
       "(0.782717820007171, 0.5955276046079192, 0.6764108338150029)"
      ]
     },
     "execution_count": 210,
     "metadata": {},
     "output_type": "execute_result"
    }
   ],
   "source": [
    "k = 1\n",
    "p = [precision(vuln, response['rerank_k_post'], k) for (vuln, response) in zip(vulns, res) if precision(vuln, response['rerank_k'], 1) != None]\n",
    "r = [recall(vuln, response['rerank_k_post'], k) for (vuln, response) in zip(vulns, res) if recall(vuln, response['rerank_k'], 1) != None]\n",
    "sum(p) / len(p), sum(r) / len(r), f1_score(sum(p) / len(p), sum(r) / len(r))"
   ]
  },
  {
   "cell_type": "code",
   "execution_count": 211,
   "id": "ff62d4ca-487d-467c-a06a-edc35d5d56fd",
   "metadata": {
    "tags": []
   },
   "outputs": [
    {
     "data": {
      "text/plain": [
       "(0.7915155910079767, 0.6022213521578994, 0.6840137112074123)"
      ]
     },
     "execution_count": 211,
     "metadata": {},
     "output_type": "execute_result"
    }
   ],
   "source": [
    "k = 1\n",
    "p = [precision(vuln, response['rerank_k_post'], k) for (vuln, response) in zip(vulns, res) if len(response['rerank_k']) > 0 and precision(vuln, response['rerank_k'], 1) != None]\n",
    "r = [recall(vuln, response['rerank_k_post'], k) for (vuln, response) in zip(vulns, res) if len(response['rerank_k']) > 0 and recall(vuln, response['rerank_k'], 1) != None]\n",
    "sum(p) / len(p), sum(r) / len(r), f1_score(sum(p) / len(p), sum(r) / len(r))"
   ]
  },
  {
   "cell_type": "code",
   "execution_count": 181,
   "id": "beeaca46-20e4-4392-b29d-8066533c40fb",
   "metadata": {
    "tags": []
   },
   "outputs": [
    {
     "data": {
      "text/plain": [
       "(0.6530973451327433, 0.5030538635405892, 0.5683394010617813)"
      ]
     },
     "execution_count": 181,
     "metadata": {},
     "output_type": "execute_result"
    }
   ],
   "source": [
    "k = 1\n",
    "p = [precision(vuln, response['rerank_k'], k) for (vuln, response) in zip(vulns[-633:], res[-633:]) if precision(vuln, response['top_k'], k) != None]\n",
    "r = [recall(vuln, response['rerank_k'], k) for (vuln, response) in zip(vulns[-633:], res[-633:]) if recall(vuln, response['top_k'], k) != None]\n",
    "sum(p) / len(p), sum(r) / len(r), f1_score(sum(p) / len(p), sum(r) / len(r))"
   ]
  },
  {
   "cell_type": "code",
   "execution_count": 180,
   "id": "d2f7dd24-57e9-4e95-b6a4-277a3eee8269",
   "metadata": {
    "tags": []
   },
   "outputs": [
    {
     "data": {
      "text/plain": [
       "(0.6637168141592921, 0.512493391564188, 0.5783838287943589)"
      ]
     },
     "execution_count": 180,
     "metadata": {},
     "output_type": "execute_result"
    }
   ],
   "source": [
    "k = 1\n",
    "p = [precision(vuln, response['rerank_k_post'], k) for (vuln, response) in zip(vulns[-633:], res[-633:]) if precision(vuln, response['top_k'], 1) != None]\n",
    "r = [recall(vuln, response['rerank_k_post'], k) for (vuln, response) in zip(vulns[-633:], res[-633:]) if recall(vuln, response['top_k'], 1) != None]\n",
    "sum(p) / len(p), sum(r) / len(r), f1_score(sum(p) / len(p), sum(r) / len(r))"
   ]
  },
  {
   "cell_type": "code",
   "execution_count": 192,
   "id": "849fec7e-1332-46d0-b92f-96972e4d374d",
   "metadata": {
    "tags": []
   },
   "outputs": [
    {
     "data": {
      "text/plain": [
       "(0.41054141269272143, 0.31759495036655344, 0.35813588278915653)"
      ]
     },
     "execution_count": 192,
     "metadata": {},
     "output_type": "execute_result"
    }
   ],
   "source": [
    "k = 1\n",
    "p = [precision(vuln, response['top_k'], k) for (vuln, response) in zip(vulns, res) if precision(vuln, response['top_k'], 1) != None]\n",
    "r = [recall(vuln, response['top_k'], k) for (vuln, response) in zip(vulns, res) if recall(vuln, response['top_k'], 1) != None]\n",
    "sum(p) / len(p), sum(r) / len(r), f1_score(sum(p) / len(p), sum(r) / len(r))"
   ]
  },
  {
   "cell_type": "code",
   "execution_count": 193,
   "id": "87fead89-d040-4d5b-a36b-3100cc26562c",
   "metadata": {
    "tags": []
   },
   "outputs": [
    {
     "data": {
      "text/plain": [
       "(0.505198996055934, 0.39890887069983577, 0.44580601144089604)"
      ]
     },
     "execution_count": 193,
     "metadata": {},
     "output_type": "execute_result"
    }
   ],
   "source": [
    "k = 1\n",
    "p = [precision(vuln, response['top_k_post'], k) for (vuln, response) in zip(vulns, res) if precision(vuln, response['top_k'], 1) != None]\n",
    "r = [recall(vuln, response['top_k_post'], k) for (vuln, response) in zip(vulns, res) if recall(vuln, response['top_k'], 1) != None]\n",
    "sum(p) / len(p), sum(r) / len(r), f1_score(sum(p) / len(p), sum(r) / len(r))"
   ]
  },
  {
   "cell_type": "code",
   "execution_count": null,
   "id": "56e8a2fd-781c-4f8e-b4b8-4d41b88c47cf",
   "metadata": {
    "tags": []
   },
   "outputs": [],
   "source": [
    "res[0]"
   ]
  }
 ],
 "metadata": {
  "kernelspec": {
   "display_name": "Python 3 (ipykernel)",
   "language": "python",
   "name": "python3"
  },
  "language_info": {
   "codemirror_mode": {
    "name": "ipython",
    "version": 3
   },
   "file_extension": ".py",
   "mimetype": "text/x-python",
   "name": "python",
   "nbconvert_exporter": "python",
   "pygments_lexer": "ipython3",
   "version": "3.10.13"
  }
 },
 "nbformat": 4,
 "nbformat_minor": 5
}
