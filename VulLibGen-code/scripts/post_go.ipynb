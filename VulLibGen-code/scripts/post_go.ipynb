{
 "cells": [
  {
   "cell_type": "code",
   "execution_count": 1,
   "id": "2497d1eb-b647-414d-ac92-40d311c6fc7b",
   "metadata": {
    "tags": []
   },
   "outputs": [],
   "source": [
    "import os, sys\n",
    "import json\n",
    "import re\n",
    "import Levenshtein\n",
    "from tqdm import tqdm\n",
    "from multiprocessing import Pool\n",
    "import time"
   ]
  },
  {
   "cell_type": "code",
   "execution_count": 13,
   "id": "cbe8b92e-a03e-4689-a576-5c6b78bc5502",
   "metadata": {
    "tags": []
   },
   "outputs": [],
   "source": [
    "input_folder = '{path_to_libgen}/libgen/outputs/'\n",
    "report_path = os.path.join(input_folder, 'go-7b-new.json')\n",
    "with open(report_path, 'r') as f:\n",
    "    reports = json.load(f)"
   ]
  },
  {
   "cell_type": "code",
   "execution_count": 31,
   "id": "5aa0ea69-6bdf-447e-8093-5398a0aacd8f",
   "metadata": {
    "tags": []
   },
   "outputs": [],
   "source": [
    "input_folder = '{path_to_libgen}/libgen/chatgpt/gpt4-output/'\n",
    "report_path = os.path.join(input_folder, 'raw_go_res.json')\n",
    "with open(report_path, 'r') as f:\n",
    "    reports = json.load(f)"
   ]
  },
  {
   "cell_type": "code",
   "execution_count": null,
   "id": "ecb26569-e350-4747-bedb-06b2c8e2eba6",
   "metadata": {},
   "outputs": [],
   "source": []
  },
  {
   "cell_type": "code",
   "execution_count": 3,
   "id": "9ad56096-cb05-4345-a5d5-27f6cfce7d38",
   "metadata": {
    "tags": []
   },
   "outputs": [],
   "source": [
    "input_folder = '{path_to_libgen}/libgen/chatgpt/advisory/'\n",
    "report_path = os.path.join(input_folder, 'go_res.json')\n",
    "with open(report_path, 'r') as f:\n",
    "    reports = json.load(f)"
   ]
  },
  {
   "cell_type": "code",
   "execution_count": 4,
   "id": "ed0184c6-c4c6-4e89-bde3-aff18d137af9",
   "metadata": {
    "tags": []
   },
   "outputs": [],
   "source": [
    "train_sep_idx, valid_sep_idx = int(len(reports) * 3 / 5), int(len(reports) * 4 / 5)\n",
    "train = reports[:train_sep_idx]\n",
    "valid = reports[train_sep_idx:valid_sep_idx]\n",
    "test = reports[valid_sep_idx:]"
   ]
  },
  {
   "cell_type": "code",
   "execution_count": 5,
   "id": "569dfb48-3a4e-4053-8cfe-8e1cb00d967b",
   "metadata": {
    "tags": []
   },
   "outputs": [],
   "source": [
    "with open('{path_to_libgen}/libgen/dataset/go_reports.json', 'r') as f:\n",
    "    raw_reports = json.load(f)\n",
    "go_lib_names = set(['go:'+lib['package']['name'].lower() for report in raw_reports for lib in report['affected']])\n",
    "go_lib_names = set([name.replace('https://', '').replace('github.com/', '') for name in go_lib_names])"
   ]
  },
  {
   "cell_type": "code",
   "execution_count": null,
   "id": "10c4d12f-e547-46be-94b9-a50684f2b91f",
   "metadata": {
    "tags": []
   },
   "outputs": [],
   "source": [
    "go_lib_names"
   ]
  },
  {
   "cell_type": "code",
   "execution_count": 21,
   "id": "729e2a2c-d2b9-4139-9b12-f2b5d3f398ce",
   "metadata": {
    "tags": []
   },
   "outputs": [],
   "source": [
    "def extract_libraries(vuln):\n",
    "    libs = ['go:'+lib['package']['name'].lower() for lib in vuln['affected']]\n",
    "    libs = [name.replace('https://', '').replace('github.com/', '') for name in libs]\n",
    "    return libs\n",
    "    \n",
    "def closest_lib(lib_name):\n",
    "    lib_name = lib_name.replace('https://', '').replace('github.com/', '')\n",
    "    # print(lib_name)\n",
    "    # return lib_name\n",
    "    weights = (1, 4, 4)\n",
    "    # global go_lib_names\n",
    "    if lib_name in go_lib_names:\n",
    "        return lib_name\n",
    "    distances = [(Levenshtein.distance(lib_name, item,\\\n",
    "                    weights = weights), item) for item in go_lib_names]\n",
    "    return min(distances)[1]\n",
    "\n",
    "\n",
    "def precision(vuln, pred, k):\n",
    "    pred = [closest_lib(lib) for lib in pred]\n",
    "    labels = extract_libraries(vuln)\n",
    "    if len(labels) == 0:\n",
    "        return None\n",
    "    # print(labels, pred)\n",
    "    # inter = [1 for label in labels if sum([lib in label for lib in pred]) > 0]\n",
    "    # print(labels, pred)\n",
    "    inter = set(labels) & set(pred[k:])\n",
    "    return len(inter) / min(k, len(labels))\n",
    "\n",
    "def recall(vuln, pred, k):\n",
    "    pred = [closest_lib(lib) for lib in pred]\n",
    "    labels = extract_libraries(vuln)\n",
    "    if len(labels) == 0:\n",
    "        return None\n",
    "    inter = set(labels) & set(pred[:k])\n",
    "    # print(len(inter))\n",
    "    # print(len(inter) / len(labels))\n",
    "    return len(inter) / len(labels)\n",
    "\n",
    "def f1_score(p, r):\n",
    "    return 2*p*r/(p+r)"
   ]
  },
  {
   "cell_type": "code",
   "execution_count": 14,
   "id": "ec098a93-2c49-4b0d-8d27-554defbc971a",
   "metadata": {
    "tags": []
   },
   "outputs": [],
   "source": [
    "pypi_regex = 'go:[-./\\w]+'\n",
    "res = reports\n",
    "for item in res:\n",
    "    if item['raw_res'] is None:\n",
    "        item['output'] = []\n",
    "        continue\n",
    "    candidates = re.findall(pypi_regex, ' '.join(item['raw_res']))\n",
    "    item['output'] = [lib[:-1].lower() if lib[-1] == '.' else lib.lower() for lib in candidates if len(lib) > 0]\n",
    "    # item['output'] = [item for item in re.split('[^\\w]', item['raw_res'].lower()) if len(item)>2]"
   ]
  },
  {
   "cell_type": "code",
   "execution_count": 36,
   "id": "c5ab829d-01c6-49d4-ac77-d367326fe238",
   "metadata": {
    "tags": []
   },
   "outputs": [],
   "source": [
    "pypi_regex = 'go:[-./\\w]+'\n",
    "res = reports\n",
    "for item in res:\n",
    "    if item['raw_res'] is None:\n",
    "        item['output'] = []\n",
    "        continue\n",
    "    candidates = re.findall(pypi_regex, item['raw_res'])\n",
    "    item['output'] = [lib[:-1].lower() if lib[-1] == '.' else lib.lower() for lib in candidates if len(lib) > 0]\n",
    "    # item['output'] = [item for item in re.split('[^\\w]', item['raw_res'][0].lower()) if len(item)>2]"
   ]
  },
  {
   "cell_type": "code",
   "execution_count": 20,
   "id": "8eda8fb2-5982-490a-8c05-5c14e5ac340d",
   "metadata": {
    "tags": []
   },
   "outputs": [
    {
     "data": {
      "text/plain": [
       "(0.8044280442804428, 0.5044280442804427)"
      ]
     },
     "execution_count": 20,
     "metadata": {},
     "output_type": "execute_result"
    }
   ],
   "source": [
    "k = 1\n",
    "p = [precision(vuln, response['output'], k) for (vuln, response) in zip(raw_reports[-271:], res[-271:]) if precision(vuln, response['output'], k) != None]\n",
    "r = [recall(vuln, response['output'], k) for (vuln, response) in zip(raw_reports[-271:], res[-271:]) if recall(vuln, response['output'], k) != None]\n",
    "sum(p) / len(p), sum(r) / len(r)"
   ]
  },
  {
   "cell_type": "code",
   "execution_count": null,
   "id": "1bd8f58d-33b7-4002-851f-ee4398c79739",
   "metadata": {
    "tags": []
   },
   "outputs": [],
   "source": [
    "res[42]"
   ]
  },
  {
   "cell_type": "code",
   "execution_count": 15,
   "id": "7bd64bce-cdfa-4361-b085-1d3ed2c9273c",
   "metadata": {
    "tags": []
   },
   "outputs": [
    {
     "data": {
      "text/plain": [
       "(0.0036900369003690036, 0.0009225092250922509)"
      ]
     },
     "execution_count": 15,
     "metadata": {},
     "output_type": "execute_result"
    }
   ],
   "source": [
    "k = 1\n",
    "p = [precision(vuln, response['output'], k) for (vuln, response) in zip(raw_reports, res) if precision(vuln, response['output'], k) != None]\n",
    "r = [recall(vuln, response['output'], k) for (vuln, response) in zip(raw_reports, res) if recall(vuln, response['output'], k) != None]\n",
    "sum(p) / len(p), sum(r) / len(r)"
   ]
  },
  {
   "cell_type": "code",
   "execution_count": null,
   "id": "c067ee7c-ff09-4b3c-b616-bf40f4d9d74e",
   "metadata": {},
   "outputs": [],
   "source": [
    "p, r"
   ]
  },
  {
   "cell_type": "code",
   "execution_count": null,
   "id": "5f63d09a-8340-487c-9b2f-6039a500fae6",
   "metadata": {
    "tags": []
   },
   "outputs": [],
   "source": [
    "test[0]"
   ]
  },
  {
   "cell_type": "code",
   "execution_count": 148,
   "id": "295092d9-626e-422b-8322-a2f06781691d",
   "metadata": {},
   "outputs": [],
   "source": [
    "lib_names = set([lib[6:] for vuln in vulns for lib in vuln['labels']])"
   ]
  },
  {
   "cell_type": "code",
   "execution_count": 161,
   "id": "43390e20-7635-49ba-a5fa-d8e27e7b0d38",
   "metadata": {
    "tags": []
   },
   "outputs": [],
   "source": [
    "with open(maven_path, 'r') as f:\n",
    "    maven_corpus = json.load(f)\n",
    "lib_names = set([lib['name'] for lib in maven_corpus])"
   ]
  },
  {
   "cell_type": "code",
   "execution_count": 149,
   "id": "29f0acb4-5cec-4c45-8891-9ddcde0a6fa2",
   "metadata": {},
   "outputs": [
    {
     "data": {
      "text/plain": [
       "2095"
      ]
     },
     "execution_count": 149,
     "metadata": {},
     "output_type": "execute_result"
    }
   ],
   "source": [
    "len(lib_names)"
   ]
  },
  {
   "cell_type": "code",
   "execution_count": 162,
   "id": "e8142298-d725-4d7a-a910-203abc340b65",
   "metadata": {
    "tags": []
   },
   "outputs": [],
   "source": [
    "artifacts = {item.split(':')[-1]: set() for item in lib_names}\n",
    "for item in lib_names:\n",
    "    components = item.split(':')\n",
    "    artifacts[components[-1]].add(item)"
   ]
  },
  {
   "cell_type": "code",
   "execution_count": null,
   "id": "7a3694b9-fa74-49b1-83c9-a7c76b523132",
   "metadata": {},
   "outputs": [],
   "source": []
  },
  {
   "cell_type": "markdown",
   "id": "b3f6a64e-0d12-4f66-b355-4010aa170d91",
   "metadata": {},
   "source": [
    "##### The preceding is chatgpt/gpt4"
   ]
  },
  {
   "cell_type": "code",
   "execution_count": null,
   "id": "9b8d15eb-0707-46e7-95d6-51a3d48fe170",
   "metadata": {},
   "outputs": [],
   "source": [
    "res[0]"
   ]
  },
  {
   "cell_type": "code",
   "execution_count": 176,
   "id": "f1cd6fde-d8bf-422b-a922-684f9f815517",
   "metadata": {},
   "outputs": [],
   "source": [
    "maven_regex = 'maven:[-.\\w]+:[-.\\w]+'\n",
    "for item in res:\n",
    "    candidates = re.findall(maven_regex, item['raw_output'])\n",
    "    item['output'] = [lib[:-1] for lib in candidates if len(lib) > 0 and lib[-1] == '.']"
   ]
  },
  {
   "cell_type": "code",
   "execution_count": null,
   "id": "ba27b7ab-e16d-444c-974b-959d0620461f",
   "metadata": {
    "tags": []
   },
   "outputs": [],
   "source": [
    "maven_regex = 'maven:[-.\\w]+:[-.\\w]+'\n",
    "for item in res:\n",
    "    item['top_k'] = re.findall(maven_regex, item['top_res'][0])\n",
    "    item['rerank_k'] = re.findall(maven_regex, item['rerank_res'][0])"
   ]
  },
  {
   "cell_type": "code",
   "execution_count": null,
   "id": "2ce12a34-3b45-4ade-80e2-ceb43a5ff2a5",
   "metadata": {},
   "outputs": [],
   "source": []
  },
  {
   "cell_type": "code",
   "execution_count": 186,
   "id": "c261b460-2684-4fc6-a249-714836486349",
   "metadata": {
    "tags": []
   },
   "outputs": [],
   "source": [
    "weights = (1, 4, 4)\n",
    "\n",
    "def cloest_artifact(artifact_id):\n",
    "    global artifacts, weights\n",
    "    if artifact_id in artifacts:\n",
    "        return artifact_id\n",
    "\n",
    "    distances = [(Levenshtein.distance(artifact_id, item,\\\n",
    "                    weights = weights), item) for item in artifacts]\n",
    "    return min(distances)[1]\n",
    "\n",
    "def cloest_group(group_id, groups):\n",
    "    if len(groups) == 0:\n",
    "        return group_id\n",
    "    if len(groups) == 1:\n",
    "        return next(iter(groups))\n",
    "    \n",
    "    global weights\n",
    "    distances = [(Levenshtein.distance(group_id, item.split(':')[-2],\\\n",
    "                    weights = weights), item) for item in groups]\n",
    "    return min(distances)[1]\n",
    "\n",
    "\n",
    "def closest_lib(label):\n",
    "    global lib_names\n",
    "    if label in lib_names:\n",
    "        return label\n",
    "    if len(label.split(':')) > 1:\n",
    "        group_id, artifact_id = label.split(':')[-2], label.split(':')[-1]\n",
    "    else:\n",
    "        group_id, artifact_id = \"\", label.split(':')[-1]\n",
    "    if artifact_id in artifacts:\n",
    "        return cloest_group(group_id, artifacts[artifact_id])\n",
    "    else:\n",
    "        advanced_artifact_id = cloest_artifact(artifact_id)\n",
    "        return cloest_group(group_id, artifacts[advanced_artifact_id])"
   ]
  },
  {
   "cell_type": "code",
   "execution_count": null,
   "id": "fbc7ce8f-464a-4401-880a-41865d072dbc",
   "metadata": {
    "tags": []
   },
   "outputs": [],
   "source": [
    "from multiprocessing import Pool\n",
    "import time"
   ]
  },
  {
   "cell_type": "code",
   "execution_count": 178,
   "id": "1d298655-b4b7-48b9-af4a-c932f8a8d92f",
   "metadata": {},
   "outputs": [],
   "source": [
    "target = [lib for vuln in res for lib in vuln['output']]"
   ]
  },
  {
   "cell_type": "code",
   "execution_count": null,
   "id": "48762cdb-dcdc-4b45-aeac-77333e2f7e4d",
   "metadata": {
    "tags": []
   },
   "outputs": [],
   "source": [
    "target = [lib for vuln in res for lib in vuln['top_k']]"
   ]
  },
  {
   "cell_type": "code",
   "execution_count": null,
   "id": "61dcc81e-73e7-43cb-bb49-17dfa0390718",
   "metadata": {
    "tags": []
   },
   "outputs": [],
   "source": [
    "target = [lib for vuln in res for lib in vuln['rerank_k']]"
   ]
  },
  {
   "cell_type": "code",
   "execution_count": null,
   "id": "fac305b3-9767-44df-8f26-50f45625a71b",
   "metadata": {
    "tags": []
   },
   "outputs": [],
   "source": [
    "target = [lib for vuln in res[-633:] for lib in vuln['rerank_k']]"
   ]
  },
  {
   "cell_type": "code",
   "execution_count": null,
   "id": "c433aa5f-7d62-41f6-bcbd-0788284e1ac5",
   "metadata": {
    "tags": []
   },
   "outputs": [],
   "source": [
    "target[0]"
   ]
  },
  {
   "cell_type": "code",
   "execution_count": 187,
   "id": "323f4b77-be59-4304-a205-317e0b274f31",
   "metadata": {
    "tags": []
   },
   "outputs": [
    {
     "name": "stderr",
     "output_type": "stream",
     "text": [
      "572it [00:00, 664.27it/s] \n"
     ]
    }
   ],
   "source": [
    "with Pool(processes=32) as pool:\n",
    "    result = list(tqdm(pool.imap(closest_lib, target)))"
   ]
  },
  {
   "cell_type": "code",
   "execution_count": null,
   "id": "0c2607d4-b73f-4a59-9c5c-4bb6952f2be0",
   "metadata": {},
   "outputs": [],
   "source": [
    "len(target)"
   ]
  },
  {
   "cell_type": "code",
   "execution_count": 124,
   "id": "fdaf2c53-f26c-47e0-8728-12e4e19657bd",
   "metadata": {
    "tags": []
   },
   "outputs": [],
   "source": [
    "def precision(vuln, pred, k):\n",
    "    labels = vuln['labels']\n",
    "    if len(labels) == 0:\n",
    "        return None\n",
    "    inter = set(labels) & set(pred[:k])\n",
    "    return len(inter) / min(k, len(labels))\n",
    "\n",
    "def recall(vuln, pred, k):\n",
    "    labels = vuln['labels']\n",
    "    if len(labels) == 0:\n",
    "        return None\n",
    "    inter = set(labels) & set(pred[:k])\n",
    "    # print(len(inter))\n",
    "    # print(len(inter) / len(labels))\n",
    "    return len(inter) / len(labels)\n",
    "\n",
    "def f1_score(p, r):\n",
    "    return 2*p*r/(p+r)"
   ]
  },
  {
   "cell_type": "code",
   "execution_count": 188,
   "id": "81fe67e9-fa30-419a-86d1-f0b5b929aef8",
   "metadata": {
    "tags": []
   },
   "outputs": [],
   "source": [
    "idx = 0\n",
    "for vuln in res:\n",
    "    vuln['post_output'] = []\n",
    "    for lib in vuln['output']:\n",
    "        vuln['post_output'].append('maven:'+result[idx])\n",
    "        idx = idx + 1"
   ]
  },
  {
   "cell_type": "code",
   "execution_count": null,
   "id": "704cf738-31c0-471a-8385-0f2f684feada",
   "metadata": {
    "tags": []
   },
   "outputs": [],
   "source": [
    "idx = 0\n",
    "for vuln in res:\n",
    "    vuln['rerank_k_post'] = []\n",
    "    for lib in vuln['rerank_k']:\n",
    "        vuln['rerank_k_post'].append('maven:'+result[idx])\n",
    "        idx = idx + 1"
   ]
  },
  {
   "cell_type": "code",
   "execution_count": null,
   "id": "9fdb7b89-1526-4756-9651-b1446b39489f",
   "metadata": {
    "tags": []
   },
   "outputs": [],
   "source": [
    "idx = 0\n",
    "for vuln in res[-633:]:\n",
    "    vuln['rerank_k_post'] = []\n",
    "    for lib in vuln['rerank_k']:\n",
    "        vuln['rerank_k_post'].append('maven:'+result[idx])\n",
    "        idx = idx + 1"
   ]
  },
  {
   "cell_type": "code",
   "execution_count": null,
   "id": "afa7ca90-ccad-4d4d-9d80-84db54fc7010",
   "metadata": {},
   "outputs": [],
   "source": []
  },
  {
   "cell_type": "code",
   "execution_count": 173,
   "id": "3ec83f3e-3868-4982-aa16-e0e13e67bd76",
   "metadata": {
    "tags": []
   },
   "outputs": [
    {
     "data": {
      "text/plain": [
       "(0.6247787610619469, 0.4908267248975213, 0.5497608553149547)"
      ]
     },
     "execution_count": 173,
     "metadata": {},
     "output_type": "execute_result"
    }
   ],
   "source": [
    "k = 1\n",
    "p = [precision(vuln, response['output'], k) for (vuln, response) in zip(test, res) if precision(vuln, response['output'], k) != None]\n",
    "r = [recall(vuln, response['output'], k) for (vuln, response) in zip(test, res) if recall(vuln, response['output'], k) != None]\n",
    "sum(p) / len(p), sum(r) / len(r), f1_score(sum(p) / len(p), sum(r) / len(r))"
   ]
  },
  {
   "cell_type": "code",
   "execution_count": 174,
   "id": "41a6c488-ce85-4cf7-8e5e-b214bf81e854",
   "metadata": {},
   "outputs": [
    {
     "data": {
      "text/plain": [
       "(0.6690265486725664, 0.5281423591158104, 0.590294748599498)"
      ]
     },
     "execution_count": 174,
     "metadata": {},
     "output_type": "execute_result"
    }
   ],
   "source": [
    "k = 1\n",
    "p = [precision(vuln, response['post_output'], k) for (vuln, response) in zip(test, res) if precision(vuln, response['post_output'], 1) != None]\n",
    "r = [recall(vuln, response['post_output'], k) for (vuln, response) in zip(test, res) if recall(vuln, response['post_output'], 1) != None]\n",
    "sum(p) / len(p), sum(r) / len(r), f1_score(sum(p) / len(p), sum(r) / len(r))"
   ]
  },
  {
   "cell_type": "code",
   "execution_count": 167,
   "id": "3d38d70d-1cc0-4dc3-ab4e-608c91b59516",
   "metadata": {},
   "outputs": [
    {
     "data": {
      "text/plain": [
       "(0.6991150442477876, 0.5478768723901467, 0.6143246941264492)"
      ]
     },
     "execution_count": 167,
     "metadata": {},
     "output_type": "execute_result"
    }
   ],
   "source": [
    "k = 1\n",
    "p = [precision(vuln, response['post_output'], k) for (vuln, response) in zip(test, res) if precision(vuln, response['post_output'], 1) != None]\n",
    "r = [recall(vuln, response['post_output'], k) for (vuln, response) in zip(test, res) if recall(vuln, response['post_output'], 1) != None]\n",
    "sum(p) / len(p), sum(r) / len(r), f1_score(sum(p) / len(p), sum(r) / len(r))"
   ]
  },
  {
   "cell_type": "code",
   "execution_count": 189,
   "id": "333b149e-f7a7-4d28-a67d-683620a0a02e",
   "metadata": {},
   "outputs": [
    {
     "data": {
      "text/plain": [
       "(0.7040998217468806, 0.5517833028528215, 0.6187049058492761)"
      ]
     },
     "execution_count": 189,
     "metadata": {},
     "output_type": "execute_result"
    }
   ],
   "source": [
    "k = 1\n",
    "p = [precision(vuln, response['post_output'], k) for (vuln, response) in zip(test, res) if len(response['post_output']) > 0 and precision(vuln, response['post_output'], 1) != None]\n",
    "r = [recall(vuln, response['post_output'], k) for (vuln, response) in zip(test, res) if len(response['post_output']) > 0 and recall(vuln, response['post_output'], 1) != None]\n",
    "sum(p) / len(p), sum(r) / len(r), f1_score(sum(p) / len(p), sum(r) / len(r))"
   ]
  },
  {
   "cell_type": "code",
   "execution_count": null,
   "id": "b6a2d4e6-4bc9-4c09-a842-4951d9a5faa5",
   "metadata": {},
   "outputs": [],
   "source": []
  },
  {
   "cell_type": "code",
   "execution_count": null,
   "id": "f8f5aa77-8807-42af-83de-62d4c5a35e3d",
   "metadata": {},
   "outputs": [],
   "source": [
    "k = 1\n",
    "p = [precision(vuln, response['output'], k) for (vuln, response) in zip(test, res) if precision(vuln, response['output'], 1) != None]\n",
    "r = [precision(vuln, response['output'], k) for (vuln, response) in zip(test, res) if recall(vuln, response['output'], 1) != None]\n",
    "sum(p) / len(p), sum(r) / len(r), f1_score(sum(p) / len(p), sum(r) / len(r))"
   ]
  },
  {
   "cell_type": "code",
   "execution_count": null,
   "id": "3c9530c8-8ed7-43fc-8448-c06eaf917604",
   "metadata": {
    "tags": []
   },
   "outputs": [],
   "source": [
    "k = 1\n",
    "p = [precision(vuln, response['post_output'], k) for (vuln, response) in zip(test, res) if precision(vuln, response['post_output'], 1) != None]\n",
    "r = [precision(vuln, response['post_output'], k) for (vuln, response) in zip(test, res) if recall(vuln, response['post_output'], 1) != None]\n",
    "sum(p) / len(p), sum(r) / len(r), f1_score(sum(p) / len(p), sum(r) / len(r))"
   ]
  },
  {
   "cell_type": "code",
   "execution_count": null,
   "id": "7986bd92-3b96-4dcb-b9c3-ed4a5f0a6123",
   "metadata": {
    "tags": []
   },
   "outputs": [],
   "source": [
    "k = 1\n",
    "p = [precision(vuln, response['rerank_k_post'], k) for (vuln, response) in zip(vulns, res) if precision(vuln, response['top_k'], 1) != None]\n",
    "r = [precision(vuln, response['rerank_k_post'], k) for (vuln, response) in zip(vulns, res) if recall(vuln, response['top_k'], 1) != None]\n",
    "sum(p) / len(p), sum(r) / len(r), f1_score(sum(p) / len(p), sum(r) / len(r))"
   ]
  },
  {
   "cell_type": "code",
   "execution_count": null,
   "id": "beeaca46-20e4-4392-b29d-8066533c40fb",
   "metadata": {
    "tags": []
   },
   "outputs": [],
   "source": [
    "k = 1\n",
    "p = [precision(vuln, response['rerank_k'], k) for (vuln, response) in zip(vulns[-633:], res[-633:]) if precision(vuln, response['top_k'], 1) != None]\n",
    "r = [precision(vuln, response['rerank_k'], k) for (vuln, response) in zip(vulns[-633:], res[-633:]) if recall(vuln, response['top_k'], 1) != None]\n",
    "sum(p) / len(p), sum(r) / len(r), f1_score(sum(p) / len(p), sum(r) / len(r))"
   ]
  },
  {
   "cell_type": "code",
   "execution_count": null,
   "id": "d2f7dd24-57e9-4e95-b6a4-277a3eee8269",
   "metadata": {
    "tags": []
   },
   "outputs": [],
   "source": [
    "k = 1\n",
    "p = [precision(vuln, response['rerank_k_post'], k) for (vuln, response) in zip(vulns[-633:], res[-633:]) if precision(vuln, response['top_k'], 1) != None]\n",
    "r = [precision(vuln, response['rerank_k_post'], k) for (vuln, response) in zip(vulns[-633:], res[-633:]) if recall(vuln, response['top_k'], 1) != None]\n",
    "sum(p) / len(p), sum(r) / len(r), f1_score(sum(p) / len(p), sum(r) / len(r))"
   ]
  },
  {
   "cell_type": "code",
   "execution_count": null,
   "id": "849fec7e-1332-46d0-b92f-96972e4d374d",
   "metadata": {
    "tags": []
   },
   "outputs": [],
   "source": [
    "k = 1\n",
    "p = [precision(vuln, response['top_k'], k) for (vuln, response) in zip(vulns, res) if precision(vuln, response['top_k'], 1) != None]\n",
    "r = [precision(vuln, response['top_k'], k) for (vuln, response) in zip(vulns, res) if recall(vuln, response['top_k'], 1) != None]\n",
    "sum(p) / len(p), sum(r) / len(r), f1_score(sum(p) / len(p), sum(r) / len(r))"
   ]
  },
  {
   "cell_type": "code",
   "execution_count": null,
   "id": "87fead89-d040-4d5b-a36b-3100cc26562c",
   "metadata": {
    "tags": []
   },
   "outputs": [],
   "source": [
    "k = 1\n",
    "p = [precision(vuln, response['top_k_post'], k) for (vuln, response) in zip(vulns, res) if precision(vuln, response['top_k'], 1) != None]\n",
    "r = [precision(vuln, response['top_k_post'], k) for (vuln, response) in zip(vulns, res) if recall(vuln, response['top_k'], 1) != None]\n",
    "sum(p) / len(p), sum(r) / len(r), f1_score(sum(p) / len(p), sum(r) / len(r))"
   ]
  }
 ],
 "metadata": {
  "kernelspec": {
   "display_name": "Python 3 (ipykernel)",
   "language": "python",
   "name": "python3"
  },
  "language_info": {
   "codemirror_mode": {
    "name": "ipython",
    "version": 3
   },
   "file_extension": ".py",
   "mimetype": "text/x-python",
   "name": "python",
   "nbconvert_exporter": "python",
   "pygments_lexer": "ipython3",
   "version": "3.10.13"
  }
 },
 "nbformat": 4,
 "nbformat_minor": 5
}
