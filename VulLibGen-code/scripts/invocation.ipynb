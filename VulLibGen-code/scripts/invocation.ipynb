{
 "cells": [
  {
   "cell_type": "code",
   "execution_count": 1,
   "metadata": {
    "tags": []
   },
   "outputs": [],
   "source": [
    "import os, sys\n",
    "import json, jsonlines"
   ]
  },
  {
   "cell_type": "code",
   "execution_count": 2,
   "metadata": {
    "tags": []
   },
   "outputs": [],
   "source": [
    "input_folder = '{path_to_libgen}/Documents/Lab/libminer/VulLibMiner/VulLib'\n",
    "train_path = os.path.join(input_folder, 'train.json')\n",
    "valid_path = os.path.join(input_folder, 'valid.json')\n",
    "test_path = os.path.join(input_folder, 'test.json')"
   ]
  },
  {
   "cell_type": "code",
   "execution_count": null,
   "metadata": {
    "tags": []
   },
   "outputs": [],
   "source": [
    "with open(train_path, 'r') as f:\n",
    "    train = json.load(f)\n",
    "with open(valid_path, 'r') as f:\n",
    "    valid = json.load(f)\n",
    "with open(test_path, 'r') as f:\n",
    "    test = json.load(f) \n",
    "vulns = train+valid+test"
   ]
  },
  {
   "cell_type": "code",
   "execution_count": 6,
   "metadata": {},
   "outputs": [],
   "source": [
    "def query(vuln, k, shot_key):\n",
    "    shots = [lib['lib_name'] for lib in vuln[shot_key][:k]]\n",
    "    prompt = 'Below is a Java vulnerability description. Please identify the software name affected by it. ' + \\\n",
    "        f'Input: {vuln[\"desc\"]}. Top {k} search results are {shots} ' + \\\n",
    "        'What is affected packages? Please outputs as the format \"maven:group id:artifact id\". '\n",
    "    return prompt\n",
    "#     return requestChatCompletion(prompt, t=0, engine='gpt-35-turbo')\n",
    "    \n",
    "def raw_query(vuln, shot_key):\n",
    "    shots = [lib['lib_name'] for lib in vuln[shot_key][:k]]\n",
    "    prompt = 'Below is a Java vulnerability description. Please identify the software name affected by it. ' + \\\n",
    "        f'Input: {vuln[\"desc\"]}. ' + \\\n",
    "        'What is affected packages? Please outputs as the format \"maven:group id:artifact id\". '\n",
    "    return prompt\n",
    "#     return requestChatCompletion(prompt, t=0, engine='gpt-35-turbo')"
   ]
  },
  {
   "cell_type": "code",
   "execution_count": 7,
   "metadata": {},
   "outputs": [],
   "source": [
    "for k in [0,1,2,3,5,10,20]:\n",
    "    target_folder = '.'\n",
    "    target_path = os.path.join(target_folder, f'{k}_res.json')\n",
    "    total_res = []\n",
    "    for vuln in vulns:\n",
    "        top_res = query(vuln, k, 'top_k') if k > 0 else raw_query(vuln, 'top_k')\n",
    "        rerank_res = query(vuln, k, 'rerank_k') if k > 0 else raw_query(vuln, 'rerank_k')\n",
    "        total_res.append({'cve_id': vuln['cve_id'], 'top_res': top_res, 'rerank_res': rerank_res})\n",
    "    with open(target_path, 'w') as f:\n",
    "        json.dump(total_res, f)"
   ]
  },
  {
   "cell_type": "code",
   "execution_count": null,
   "metadata": {},
   "outputs": [],
   "source": [
    "vulns[51]"
   ]
  },
  {
   "cell_type": "code",
   "execution_count": 41,
   "metadata": {},
   "outputs": [
    {
     "name": "stdout",
     "output_type": "stream",
     "text": [
      "Below is a Java vulnerability description. Please identify the software name affected by it. Input: A sandbox bypass vulnerability exists in Script Security Plugin 1.47 and earlier in groovy-sandbox/src/main/java/org/kohsuke/groovy/sandbox/SandboxTransformer.java that allows attackers with Job/Configure permission to execute arbitrary code on the Jenkins master JVM, if plugins using the Groovy sandbox are installed.. Top 3 search results are ['maven:com.samsungxr:script', 'maven:org.dkpro.script:dkpro-script-groovy', 'maven:org.picocontainer.script:picocontainer-script-groovy'] What is affected packages? Please outputs as the format \"maven:group id:artifact id\". \n"
     ]
    }
   ],
   "source": [
    "query(test[1], 3, 'top_k')"
   ]
  },
  {
   "cell_type": "code",
   "execution_count": null,
   "metadata": {},
   "outputs": [],
   "source": []
  },
  {
   "cell_type": "code",
   "execution_count": 11,
   "metadata": {},
   "outputs": [
    {
     "data": {
      "text/plain": [
       "dict_keys(['cve_id', 'desc', 'labels', 'top_k', 'rerank_k'])"
      ]
     },
     "execution_count": 11,
     "metadata": {},
     "output_type": "execute_result"
    }
   ],
   "source": [
    "test[0].keys()"
   ]
  },
  {
   "cell_type": "code",
   "execution_count": null,
   "metadata": {},
   "outputs": [],
   "source": [
    "Below is a Java vulnerability description. Please identify the software name affected by it. Input: Jenkins Mac Plugin 1.1.0 and earlier does not validate SSH host keys when connecting agents created by the plugin, enabling man-in-the-middle attacks.. Top 3 search results are ['maven:com.clovellytech:tsec-mac_2.12', 'maven:com.clovellytech:tsec-mac_2.13', 'maven:jenkins.plugin.assembla:assembla-jenkins']. What is affected packages? Please outputs as the format \"maven:group id:artifact id\". "
   ]
  },
  {
   "cell_type": "code",
   "execution_count": 42,
   "metadata": {},
   "outputs": [
    {
     "data": {
      "text/plain": [
       "['maven:org.kohsuke:groovy-sandbox']"
      ]
     },
     "execution_count": 42,
     "metadata": {},
     "output_type": "execute_result"
    }
   ],
   "source": [
    "test[1]['labels']"
   ]
  },
  {
   "cell_type": "code",
   "execution_count": 30,
   "metadata": {},
   "outputs": [],
   "source": [
    "with open(os.path.join(input_folder, '../maven_corpus_new.json'), 'r') as f:\n",
    "    maven_corpus = json.load(f)"
   ]
  },
  {
   "cell_type": "code",
   "execution_count": 31,
   "metadata": {},
   "outputs": [],
   "source": [
    "lib_names = set([lib['name'] for lib in maven_corpus])"
   ]
  },
  {
   "cell_type": "code",
   "execution_count": null,
   "metadata": {},
   "outputs": [],
   "source": []
  }
 ],
 "metadata": {
  "kernelspec": {
   "display_name": "Python 3 (ipykernel)",
   "language": "python",
   "name": "python3"
  },
  "language_info": {
   "codemirror_mode": {
    "name": "ipython",
    "version": 3
   },
   "file_extension": ".py",
   "mimetype": "text/x-python",
   "name": "python",
   "nbconvert_exporter": "python",
   "pygments_lexer": "ipython3",
   "version": "3.10.13"
  }
 },
 "nbformat": 4,
 "nbformat_minor": 4
}
