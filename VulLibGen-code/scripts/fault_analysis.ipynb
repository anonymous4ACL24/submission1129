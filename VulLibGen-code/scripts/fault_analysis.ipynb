{
 "cells": [
  {
   "cell_type": "code",
   "execution_count": 15,
   "id": "7109c43a-6396-4115-b2e5-0fdcbd32579b",
   "metadata": {
    "tags": []
   },
   "outputs": [],
   "source": [
    "import os, sys\n",
    "import json\n",
    "import re\n",
    "from multiprocessing import Pool\n",
    "import time\n",
    "import Levenshtein\n",
    "from tqdm import tqdm"
   ]
  },
  {
   "cell_type": "code",
   "execution_count": 2,
   "id": "888c2f02-6eca-4365-afc6-7f55580d6687",
   "metadata": {
    "tags": []
   },
   "outputs": [],
   "source": [
    "input_folder = '{path_to_libgen}/libgen/VulLib'\n",
    "train_path = os.path.join(input_folder, 'train.json')\n",
    "valid_path = os.path.join(input_folder, 'valid.json')\n",
    "test_path = os.path.join(input_folder, 'test.json')\n",
    "maven_path = os.path.join(input_folder, 'maven_corpus_new.json')"
   ]
  },
  {
   "cell_type": "code",
   "execution_count": 3,
   "id": "82612732-ad95-4f71-9040-3b4a23059832",
   "metadata": {
    "tags": []
   },
   "outputs": [],
   "source": [
    "with open(train_path, 'r') as f:\n",
    "    train = json.load(f)\n",
    "with open(valid_path, 'r') as f:\n",
    "    valid = json.load(f)\n",
    "with open(test_path, 'r') as f:\n",
    "    test = json.load(f) \n",
    "vulns = train + valid + test"
   ]
  },
  {
   "cell_type": "code",
   "execution_count": 5,
   "id": "2a5719c5-ec8b-4ac1-9d7a-a0fc49c05b40",
   "metadata": {
    "tags": []
   },
   "outputs": [],
   "source": [
    "with open(maven_path, 'r') as f:\n",
    "    maven_corpus = json.load(f)\n",
    "lib_names = set([lib['name'] for lib in maven_corpus])"
   ]
  },
  {
   "cell_type": "code",
   "execution_count": 6,
   "id": "2075fc11-a92f-4acf-bad5-b4f49acb09e0",
   "metadata": {
    "tags": []
   },
   "outputs": [],
   "source": [
    "artifacts = {item.split(':')[-1]: set() for item in lib_names}\n",
    "for item in lib_names:\n",
    "    components = item.split(':')\n",
    "    artifacts[components[-1]].add(item)"
   ]
  },
  {
   "cell_type": "code",
   "execution_count": 7,
   "id": "5638f653-4a96-41f1-b8ba-52892dab11da",
   "metadata": {
    "tags": []
   },
   "outputs": [],
   "source": [
    "with open('response/1_res_gpt-4-1106-preview.json', 'r') as f:\n",
    "    res = json.load(f)"
   ]
  },
  {
   "cell_type": "code",
   "execution_count": 9,
   "id": "242cde64-0638-47cf-9bfb-8758021f6002",
   "metadata": {
    "tags": []
   },
   "outputs": [],
   "source": [
    "maven_regex = 'maven:[-.\\w]+:[-.\\w]+'\n",
    "for item in res:\n",
    "    item['top_k'] = re.findall(maven_regex, item['top_res'][0])\n",
    "    item['rerank_k'] = re.findall(maven_regex, item['rerank_res'][0])"
   ]
  },
  {
   "cell_type": "code",
   "execution_count": 55,
   "id": "b2998ff3-ded7-46bc-891e-1c9a5bb765ac",
   "metadata": {
    "tags": []
   },
   "outputs": [],
   "source": [
    "weights = (1, 4, 4)\n",
    "\n",
    "def cloest_artifact(artifact_id):\n",
    "    global artifacts, weights\n",
    "    if artifact_id in artifacts:\n",
    "        return artifact_id\n",
    "\n",
    "    distances = [(Levenshtein.distance(artifact_id, item,\\\n",
    "                    weights = weights), item) for item in artifacts]\n",
    "    return min(distances)[1]\n",
    "\n",
    "def cloest_group(group_id, groups):\n",
    "    if len(groups) == 0:\n",
    "        return group_id\n",
    "    if len(groups) == 1:\n",
    "        return next(iter(groups))\n",
    "    \n",
    "    global weights\n",
    "    distances = [(Levenshtein.distance(group_id, item.split(':')[-2],\\\n",
    "                    weights = weights), item) for item in groups]\n",
    "    return min(distances)[1]\n",
    "\n",
    "\n",
    "def closest_lib(label):\n",
    "    global lib_names\n",
    "    if label in lib_names:\n",
    "        return label\n",
    "    if len(label.split(':')) > 1:\n",
    "        group_id, artifact_id = label.split(':')[-2], label.split(':')[-1]\n",
    "    else:\n",
    "        group_id, artifact_id = \"\", label.split(':')[-1]\n",
    "    if artifact_id in artifacts:\n",
    "        return cloest_group(group_id, artifacts[artifact_id])\n",
    "    else:\n",
    "        advanced_artifact_id = cloest_artifact(artifact_id)\n",
    "        return cloest_group(group_id, artifacts[advanced_artifact_id])"
   ]
  },
  {
   "cell_type": "code",
   "execution_count": 37,
   "id": "552676bb-033e-4caa-95e0-27ba92897329",
   "metadata": {
    "tags": []
   },
   "outputs": [],
   "source": [
    "target = [lib for vuln in res for lib in vuln['rerank_k']]"
   ]
  },
  {
   "cell_type": "code",
   "execution_count": 52,
   "id": "940dd6dd-dc62-48c4-8a28-5a091b4b761b",
   "metadata": {
    "tags": []
   },
   "outputs": [
    {
     "name": "stderr",
     "output_type": "stream",
     "text": [
      "3623it [00:03, 915.13it/s] \n"
     ]
    }
   ],
   "source": [
    "with Pool(processes=32) as pool:\n",
    "    result = list(tqdm(pool.imap(closest_lib, target)))"
   ]
  },
  {
   "cell_type": "code",
   "execution_count": 39,
   "id": "4a050ac8-7558-4957-a0b8-ded9d2c31b88",
   "metadata": {
    "tags": []
   },
   "outputs": [],
   "source": [
    "def precision(vuln, pred, k):\n",
    "    labels = vuln['labels']\n",
    "    if len(labels) == 0:\n",
    "        return None\n",
    "    inter = set(labels) & set(pred[:k])\n",
    "    return len(inter) / min(k, len(labels))\n",
    "\n",
    "def recall(vuln, pred, k):\n",
    "    labels = vuln['labels']\n",
    "    if len(labels) == 0:\n",
    "        return None\n",
    "    inter = set(labels) & set(pred[:k])\n",
    "    return len(inter) / len(labels)\n",
    "\n",
    "def f1_score(p, r):\n",
    "    return 2*p*r/(p+r)"
   ]
  },
  {
   "cell_type": "code",
   "execution_count": 56,
   "id": "99ff78d2-2971-49d5-b0df-223db2cfa724",
   "metadata": {
    "tags": []
   },
   "outputs": [],
   "source": [
    "idx = 0\n",
    "for vuln in res:\n",
    "    vuln['rerank_k_post'] = []\n",
    "    for lib in vuln['rerank_k']:\n",
    "        vuln['rerank_k_post'].append('maven:'+result[idx])\n",
    "        idx = idx + 1"
   ]
  },
  {
   "cell_type": "code",
   "execution_count": 57,
   "id": "f79c01b0-ad8e-4a68-beed-da98ca91d682",
   "metadata": {
    "tags": []
   },
   "outputs": [
    {
     "data": {
      "text/plain": [
       "(0.754392255288634, 0.5723564886436876, 0.6508863178076171)"
      ]
     },
     "execution_count": 57,
     "metadata": {},
     "output_type": "execute_result"
    }
   ],
   "source": [
    "k = 1\n",
    "p = [precision(vuln, response['rerank_k_post'], k) for (vuln, response) in zip(vulns, res) if precision(vuln, response['top_k'], 1) != None]\n",
    "r = [recall(vuln, response['rerank_k_post'], k) for (vuln, response) in zip(vulns, res) if recall(vuln, response['top_k'], 1) != None]\n",
    "sum(p) / len(p), sum(r) / len(r), f1_score(sum(p) / len(p), sum(r) / len(r))"
   ]
  },
  {
   "cell_type": "code",
   "execution_count": 59,
   "id": "5883aa7e-8eda-47a7-9c44-33e6d5ae786b",
   "metadata": {
    "tags": []
   },
   "outputs": [
    {
     "data": {
      "text/plain": [
       "['maven:org.jgroups:jgroups']"
      ]
     },
     "execution_count": 59,
     "metadata": {},
     "output_type": "execute_result"
    }
   ],
   "source": [
    "res[0]['rerank_k']"
   ]
  },
  {
   "cell_type": "markdown",
   "id": "8821fb9c-2647-44fb-be4d-3adba13a2c90",
   "metadata": {},
   "source": [
    "##### Lack/More Token"
   ]
  },
  {
   "cell_type": "code",
   "execution_count": 77,
   "id": "2fc950fd-1aa4-47ad-ba16-e7898d3e7dd0",
   "metadata": {
    "tags": []
   },
   "outputs": [],
   "source": [
    "def is_sub_sequence(src, dst):\n",
    "    for \n",
    "\n",
    "def is_lack_more_token(raw_name, target_name):\n",
    "    prefix, raw_group, raw_artifact = raw_name.split(':')\n",
    "    prefix, target_group, target_artifact = target_name.split(':')\n",
    "    raw_group_tokens = re.split('-|\\.', raw_group)\n",
    "    raw_artifact_tokens = re.split('-|\\.', raw_artifact)\n",
    "    print(raw_group_tokens, raw_artifact_tokens)"
   ]
  },
  {
   "cell_type": "code",
   "execution_count": 78,
   "id": "f0e6563b-84ff-4f2d-9327-82706ccf4e4c",
   "metadata": {
    "tags": []
   },
   "outputs": [
    {
     "name": "stdout",
     "output_type": "stream",
     "text": [
      "['jgroups'] ['jgroups', 'all']\n"
     ]
    }
   ],
   "source": [
    "is_lack_more_token(vulns[0]['labels'][0], res[0]['rerank_k'][0])"
   ]
  },
  {
   "cell_type": "code",
   "execution_count": 74,
   "id": "ee8c8a5b-0d26-4e19-8749-dda672cb2325",
   "metadata": {
    "tags": []
   },
   "outputs": [
    {
     "data": {
      "text/plain": [
       "['maven:org', 'jgroups:jgroups', 'wow', 'as', 'wow']"
      ]
     },
     "execution_count": 74,
     "metadata": {},
     "output_type": "execute_result"
    }
   ],
   "source": [
    "re.split('-|\\.', 'maven:org.jgroups:jgroups-wow.as-wow')"
   ]
  },
  {
   "cell_type": "code",
   "execution_count": null,
   "id": "d8ac8301-2ff2-4f58-bfb0-2870c1a0c58d",
   "metadata": {},
   "outputs": [],
   "source": []
  }
 ],
 "metadata": {
  "kernelspec": {
   "display_name": "Python 3 (ipykernel)",
   "language": "python",
   "name": "python3"
  },
  "language_info": {
   "codemirror_mode": {
    "name": "ipython",
    "version": 3
   },
   "file_extension": ".py",
   "mimetype": "text/x-python",
   "name": "python",
   "nbconvert_exporter": "python",
   "pygments_lexer": "ipython3",
   "version": "3.10.13"
  }
 },
 "nbformat": 4,
 "nbformat_minor": 5
}
