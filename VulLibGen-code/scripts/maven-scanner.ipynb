{
 "cells": [
  {
   "cell_type": "code",
   "execution_count": 7,
   "id": "397f6c3d-6698-4ec7-a928-beae6c8a5d31",
   "metadata": {
    "tags": []
   },
   "outputs": [],
   "source": [
    "import os, sys\n",
    "import json\n",
    "import re"
   ]
  },
  {
   "cell_type": "code",
   "execution_count": 2,
   "id": "9a484dfc-bf62-43c0-994d-41359dc3a48f",
   "metadata": {
    "tags": []
   },
   "outputs": [],
   "source": [
    "input_folder = '{path_to_libgen}/libgen/VulLib'\n",
    "train_path = os.path.join(input_folder, 'train.json')\n",
    "valid_path = os.path.join(input_folder, 'valid.json')\n",
    "test_path = os.path.join(input_folder, 'test.json')\n",
    "maven_path = os.path.join(input_folder, 'maven_corpus_new.json')"
   ]
  },
  {
   "cell_type": "code",
   "execution_count": 3,
   "id": "cf5c6cb9-4906-4589-ae32-868f88d0e471",
   "metadata": {
    "tags": []
   },
   "outputs": [],
   "source": [
    "with open(train_path, 'r') as f:\n",
    "    train = json.load(f)\n",
    "with open(valid_path, 'r') as f:\n",
    "    valid = json.load(f)\n",
    "with open(test_path, 'r') as f:\n",
    "    test = json.load(f) \n",
    "vulns = train + valid + test"
   ]
  },
  {
   "cell_type": "code",
   "execution_count": 4,
   "id": "6a08f0b5-bfac-4c76-a819-3b1fb0cffe92",
   "metadata": {
    "tags": []
   },
   "outputs": [],
   "source": [
    "with open(maven_path, 'r') as f:\n",
    "    maven_corpus = json.load(f)\n",
    "lib_names = set([lib['name'] for lib in maven_corpus])"
   ]
  },
  {
   "cell_type": "code",
   "execution_count": 5,
   "id": "308884cf-1282-4832-a308-1560709f9b1e",
   "metadata": {
    "tags": []
   },
   "outputs": [],
   "source": [
    "groups = set([lib.split(':')[-2] for lib in lib_names])\n",
    "artifacts = set([lib.split(':')[-1] for lib in lib_names])"
   ]
  },
  {
   "cell_type": "code",
   "execution_count": 26,
   "id": "8598c8be-c439-4a42-903c-33ba60581216",
   "metadata": {
    "tags": []
   },
   "outputs": [
    {
     "data": {
      "text/plain": [
       "(53118, 274492)"
      ]
     },
     "execution_count": 26,
     "metadata": {},
     "output_type": "execute_result"
    }
   ],
   "source": [
    "len(groups),len(artifacts)"
   ]
  },
  {
   "cell_type": "code",
   "execution_count": null,
   "id": "1fe8ccbd-0bda-47c2-8e36-a4e95566fd36",
   "metadata": {
    "tags": []
   },
   "outputs": [],
   "source": [
    "vulns[0]"
   ]
  },
  {
   "cell_type": "code",
   "execution_count": 23,
   "id": "f2c256ce-d00f-45a1-8b68-057d2a484f35",
   "metadata": {
    "tags": []
   },
   "outputs": [],
   "source": [
    "def test_vuln(vuln):\n",
    "    groups = [lib.split(':')[-2] for lib in vuln['labels']]\n",
    "    artifacts = [lib.split(':')[-1] for lib in vuln['labels']]\n",
    "    group_tokens = [item for group in groups for item in re.split(':|\\.|-', group)]\n",
    "    artifact_tokens = [item for artifact in artifacts for item in re.split(':|\\.|-', artifact)]\n",
    "    group_labels = [item in vuln['desc'] for item in group_tokens]\n",
    "    artifact_labels = [item.lower() in vuln['desc'].lower() for item in artifact_tokens]\n",
    "    # print(group_tokens)\n",
    "    return sum(group_labels) / len(group_tokens), sum(artifact_labels) / len(artifact_tokens)"
   ]
  },
  {
   "cell_type": "code",
   "execution_count": 24,
   "id": "52a8f8cf-c8b6-456a-8a7e-21cb36e6970c",
   "metadata": {
    "tags": []
   },
   "outputs": [],
   "source": [
    "res = [test_vuln(vuln) for vuln in vulns if len(vuln['labels']) > 0]"
   ]
  },
  {
   "cell_type": "code",
   "execution_count": 25,
   "id": "8dce72ed-b089-4c33-a752-38c06e234162",
   "metadata": {
    "tags": []
   },
   "outputs": [
    {
     "data": {
      "text/plain": [
       "(0.12445656593907045, 0.6597165549436804)"
      ]
     },
     "execution_count": 25,
     "metadata": {},
     "output_type": "execute_result"
    }
   ],
   "source": [
    "sum([item[0] for item in res]) / len(res), sum([item[1] for item in res]) / len(res)"
   ]
  },
  {
   "cell_type": "code",
   "execution_count": 22,
   "id": "356d7612-68db-47cd-b321-5489ba1a7921",
   "metadata": {
    "tags": []
   },
   "outputs": [
    {
     "data": {
      "text/plain": [
       "1.6315848813987812"
      ]
     },
     "execution_count": 22,
     "metadata": {},
     "output_type": "execute_result"
    }
   ],
   "source": [
    "0.20306145137699785/0.12445656593907045"
   ]
  }
 ],
 "metadata": {
  "kernelspec": {
   "display_name": "Python 3 (ipykernel)",
   "language": "python",
   "name": "python3"
  },
  "language_info": {
   "codemirror_mode": {
    "name": "ipython",
    "version": 3
   },
   "file_extension": ".py",
   "mimetype": "text/x-python",
   "name": "python",
   "nbconvert_exporter": "python",
   "pygments_lexer": "ipython3",
   "version": "3.10.13"
  }
 },
 "nbformat": 4,
 "nbformat_minor": 5
}
