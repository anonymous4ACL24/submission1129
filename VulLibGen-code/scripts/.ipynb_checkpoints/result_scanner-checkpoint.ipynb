{
 "cells": [
  {
   "cell_type": "code",
   "execution_count": 1,
   "metadata": {
    "tags": []
   },
   "outputs": [],
   "source": [
    "import os, sys\n",
    "import json\n",
    "import re"
   ]
  },
  {
   "cell_type": "code",
   "execution_count": 2,
   "metadata": {
    "tags": []
   },
   "outputs": [],
   "source": [
    "input_folder = '{path_to_libgen}/libgen/VulLib'\n",
    "train_path = os.path.join(input_folder, 'train.json')\n",
    "valid_path = os.path.join(input_folder, 'valid.json')\n",
    "test_path = os.path.join(input_folder, 'test.json')\n",
    "maven_path = os.path.join(input_folder, 'maven_corpus_new.json')"
   ]
  },
  {
   "cell_type": "code",
   "execution_count": 3,
   "metadata": {
    "tags": []
   },
   "outputs": [],
   "source": [
    "with open(train_path, 'r') as f:\n",
    "    train = json.load(f)\n",
    "with open(valid_path, 'r') as f:\n",
    "    valid = json.load(f)\n",
    "with open(test_path, 'r') as f:\n",
    "    test = json.load(f) \n",
    "vulns = train + valid + test"
   ]
  },
  {
   "cell_type": "code",
   "execution_count": 4,
   "metadata": {
    "tags": []
   },
   "outputs": [],
   "source": [
    "with open(maven_path, 'r') as f:\n",
    "    maven_corpus = json.load(f)\n",
    "maven_names = set([lib['name'] for lib in maven_corpus])"
   ]
  },
  {
   "cell_type": "code",
   "execution_count": 5,
   "metadata": {
    "tags": []
   },
   "outputs": [],
   "source": [
    "with open('response/0_res_gpt-35-turbo.json', 'r') as f:\n",
    "    res = json.load(f)"
   ]
  },
  {
   "cell_type": "code",
   "execution_count": null,
   "metadata": {
    "tags": []
   },
   "outputs": [],
   "source": [
    "res[0]"
   ]
  },
  {
   "cell_type": "code",
   "execution_count": 6,
   "metadata": {
    "tags": []
   },
   "outputs": [],
   "source": [
    "maven_regex = 'maven:[-.\\w]+:[-.\\w]+'\n",
    "for item in res:\n",
    "    item['top_k'] = re.findall(maven_regex, item['top_res'][0])\n",
    "    item['rerank_k'] = re.findall(maven_regex, item['rerank_res'][0])"
   ]
  },
  {
   "cell_type": "code",
   "execution_count": 7,
   "metadata": {
    "tags": []
   },
   "outputs": [],
   "source": [
    "def precision(vuln, pred, k):\n",
    "    labels = vuln['labels']\n",
    "    if len(labels) == 0:\n",
    "        return None\n",
    "    inter = set(labels) & set(pred)\n",
    "    return len(inter) / min(k, len(labels))\n",
    "\n",
    "def recall(vuln, pred, k):\n",
    "    labels = vuln['labels'][:k]\n",
    "    if len(labels) == 0:\n",
    "        return None\n",
    "    inter = set(labels) & set(pred)\n",
    "    return len(inter) / len(labels)\n",
    "\n",
    "def f1_score(p, r):\n",
    "    return 2*p*r/(p+r)"
   ]
  },
  {
   "cell_type": "code",
   "execution_count": 18,
   "metadata": {
    "tags": []
   },
   "outputs": [],
   "source": [
    "to_see = [(vuln['cve_id'], vuln['desc'], vuln['labels'], response['top_k'], response['top_res'][0]) for (vuln, response) in zip(vulns, res) if\\\n",
    "          precision(vuln, response['top_k'], 1) != None and precision(vuln, response['top_k'], 1) < 0.8]"
   ]
  },
  {
   "cell_type": "code",
   "execution_count": 19,
   "metadata": {
    "tags": []
   },
   "outputs": [],
   "source": [
    "with open('to_see.json', 'w') as f:\n",
    "    json.dump(to_see, f)"
   ]
  },
  {
   "cell_type": "code",
   "execution_count": 14,
   "metadata": {
    "tags": []
   },
   "outputs": [
    {
     "data": {
      "text/plain": [
       "'The software affected by this vulnerability is JGroups before version 4.0. \\n\\nThe Maven identifier format for JGroups is \"maven:org.jgroups:jgroups\".'"
      ]
     },
     "execution_count": 14,
     "metadata": {},
     "output_type": "execute_result"
    }
   ],
   "source": [
    "res[0]['top_res'][0]"
   ]
  },
  {
   "cell_type": "code",
   "execution_count": 11,
   "metadata": {
    "tags": []
   },
   "outputs": [
    {
     "data": {
      "text/plain": [
       "1623"
      ]
     },
     "execution_count": 11,
     "metadata": {},
     "output_type": "execute_result"
    }
   ],
   "source": [
    "len(to_see)"
   ]
  },
  {
   "cell_type": "code",
   "execution_count": 14,
   "metadata": {
    "tags": []
   },
   "outputs": [],
   "source": [
    "temp = [item[0] for item in to_see[:100]]"
   ]
  },
  {
   "cell_type": "code",
   "execution_count": 16,
   "metadata": {
    "tags": []
   },
   "outputs": [],
   "source": [
    "with open('case_study.json', 'w') as f:\n",
    "    json.dump(temp, f)"
   ]
  },
  {
   "cell_type": "code",
   "execution_count": 47,
   "metadata": {},
   "outputs": [
    {
     "data": {
      "text/plain": [
       "(0.31301541771244173, 0.31301541771244173, 0.31301541771244173)"
      ]
     },
     "execution_count": 47,
     "metadata": {},
     "output_type": "execute_result"
    }
   ],
   "source": [
    "k = 1\n",
    "p = [precision(vuln, response['top_k'], k) for (vuln, response) in zip(vulns, res) if precision(vuln, response['top_k'], 1) != None]\n",
    "r = [precision(vuln, response['top_k'], k) for (vuln, response) in zip(vulns, res) if recall(vuln, response['top_k'], 1) != None]\n",
    "sum(p) / len(p), sum(r) / len(r), f1_score(sum(p) / len(p), sum(r) / len(r))"
   ]
  }
 ],
 "metadata": {
  "kernelspec": {
   "display_name": "Python 3 (ipykernel)",
   "language": "python",
   "name": "python3"
  },
  "language_info": {
   "codemirror_mode": {
    "name": "ipython",
    "version": 3
   },
   "file_extension": ".py",
   "mimetype": "text/x-python",
   "name": "python",
   "nbconvert_exporter": "python",
   "pygments_lexer": "ipython3",
   "version": "3.10.13"
  }
 },
 "nbformat": 4,
 "nbformat_minor": 4
}
