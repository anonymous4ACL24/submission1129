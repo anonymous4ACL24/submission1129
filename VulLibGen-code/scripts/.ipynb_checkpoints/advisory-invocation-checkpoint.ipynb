{
 "cells": [
  {
   "cell_type": "code",
   "execution_count": 1,
   "metadata": {
    "tags": []
   },
   "outputs": [],
   "source": [
    "import os, sys\n",
    "import json, jsonlines\n",
    "from openai import OpenAI"
   ]
  },
  {
   "cell_type": "code",
   "execution_count": 2,
   "metadata": {
    "tags": []
   },
   "outputs": [],
   "source": [
    "client = OpenAI(api_key=key)"
   ]
  },
  {
   "cell_type": "raw",
   "metadata": {
    "tags": []
   },
   "source": [
    "export https_proxy=http://127.0.0.1:37890 http_proxy=http://127.0.0.1:37890 all_proxy=socks5://127.0.0.1:37891"
   ]
  },
  {
   "cell_type": "code",
   "execution_count": 4,
   "metadata": {
    "tags": []
   },
   "outputs": [
    {
     "name": "stdout",
     "output_type": "stream",
     "text": [
      "PING openai.com (13.107.213.73) 56(84) bytes of data.\n",
      "64 bytes from 13.107.213.73 (13.107.213.73): icmp_seq=1 ttl=49 time=75.5 ms\n",
      "64 bytes from 13.107.213.73 (13.107.213.73): icmp_seq=2 ttl=49 time=80.2 ms\n",
      "64 bytes from 13.107.213.73 (13.107.213.73): icmp_seq=3 ttl=49 time=74.8 ms\n",
      "64 bytes from 13.107.213.73 (13.107.213.73): icmp_seq=4 ttl=49 time=75.3 ms\n",
      "\n",
      "--- openai.com ping statistics ---\n",
      "4 packets transmitted, 4 received, 0% packet loss, time 3002ms\n",
      "rtt min/avg/max/mdev = 74.801/76.446/80.186/2.173 ms\n"
     ]
    },
    {
     "data": {
      "text/plain": [
       "2"
      ]
     },
     "execution_count": 4,
     "metadata": {},
     "output_type": "execute_result"
    }
   ],
   "source": [
    "os.system('echo | ping openai.com')"
   ]
  },
  {
   "cell_type": "code",
   "execution_count": 24,
   "metadata": {
    "tags": []
   },
   "outputs": [],
   "source": [
    "def gpt4_query(client, query):\n",
    "    try:\n",
    "        response = client.chat.completions.create(\n",
    "          model=\"gpt-4-1106-preview\",\n",
    "          messages=[\n",
    "            {\"role\": \"system\", \"content\": \"You are a helpful assistant.\"},\n",
    "            {\"role\": \"user\", \"content\": query},\n",
    "          ]\n",
    "        )\n",
    "        response = response.json()\n",
    "    except:\n",
    "        response = None\n",
    "    return response"
   ]
  },
  {
   "cell_type": "code",
   "execution_count": null,
   "metadata": {},
   "outputs": [],
   "source": []
  },
  {
   "cell_type": "code",
   "execution_count": 2,
   "metadata": {
    "tags": []
   },
   "outputs": [],
   "source": [
    "input_folder = '{path_to_libgen}/libgen/dataset/'\n",
    "maven_report_path = os.path.join(input_folder, 'maven_reports.json')\n",
    "npm_report_path = os.path.join(input_folder, 'npm_reports.json')\n",
    "pypi_report_path = os.path.join(input_folder, 'pypi_reports.json')\n",
    "go_report_path = os.path.join(input_folder, 'go_reports.json')"
   ]
  },
  {
   "cell_type": "code",
   "execution_count": 3,
   "metadata": {
    "tags": []
   },
   "outputs": [],
   "source": [
    "rerank_folder = '{path_to_libgen}/libgen/chatgpt/rerank_1/'\n",
    "# maven_rerank_path = os.path.join(rerank_folder, 'maven_rerank_1.json')\n",
    "npm_rerank_path = os.path.join(rerank_folder, 'npm_rerank_1.json')\n",
    "pypi_rerank_path = os.path.join(rerank_folder, 'pypi_rerank_1.json')\n",
    "go_rerank_path = os.path.join(rerank_folder, 'go_rerank_1.json')"
   ]
  },
  {
   "cell_type": "code",
   "execution_count": 4,
   "metadata": {
    "tags": []
   },
   "outputs": [],
   "source": [
    "# with open(maven_rerank_path, 'r') as f:\n",
    "#     maven_rerank = json.load(f)\n",
    "with open(npm_rerank_path, 'r') as f:\n",
    "    npm_rerank = json.load(f)\n",
    "with open(pypi_rerank_path, 'r') as f:\n",
    "    pypi_rerank = json.load(f)\n",
    "with open(go_rerank_path, 'r') as f:\n",
    "    go_rerank = json.load(f)"
   ]
  },
  {
   "cell_type": "code",
   "execution_count": 5,
   "metadata": {
    "tags": []
   },
   "outputs": [],
   "source": [
    "with open(maven_report_path, 'r') as f:\n",
    "    maven_report = json.load(f)\n",
    "with open(npm_report_path, 'r') as f:\n",
    "    npm_report = json.load(f)\n",
    "with open(pypi_report_path, 'r') as f:\n",
    "    pypi_report = json.load(f)\n",
    "with open(go_report_path, 'r') as f:\n",
    "    go_report = json.load(f)"
   ]
  },
  {
   "cell_type": "code",
   "execution_count": 25,
   "metadata": {
    "tags": []
   },
   "outputs": [],
   "source": [
    "def raw_query(vuln, language, recommend):\n",
    "    if language == 'maven':\n",
    "        prompt = 'Below is a Java vulnerability description. Please identify the software name affected by it. ' + \\\n",
    "            f'Input: {vuln[\"details\"]}. ' + \\\n",
    "            'What is affected packages? Please outputs as the format \"maven:group id:artifact id\". '\n",
    "    elif language == 'npm':\n",
    "        prompt = 'Below is a JavaScript vulnerability description. Please identify the software name affected by it. ' + \\\n",
    "            f'Input: {vuln[\"details\"]}. ' + \\\n",
    "            'What is affected packages? Please outputs as the format \"npm:library name\". '\n",
    "    elif language == 'pypi':\n",
    "        prompt = 'Below is a Python vulnerability description. Please identify the software name affected by it. ' + \\\n",
    "            f'Input: {vuln[\"details\"]}. ' + \\\n",
    "            'What is affected packages? Please outputs as the format \"pypi:library name\". '\n",
    "    elif language == 'go':\n",
    "        prompt = 'Below is a Go vulnerability description. Please identify the software name affected by it. ' + \\\n",
    "            f'Input: {vuln[\"details\"]}. ' + \\\n",
    "            'What is affected packages? Please outputs as the format \"go:library name\". '\n",
    "    return prompt\n",
    "#     return requestChatCompletion(prompt, t=0, engine='gpt-35-turbo')"
   ]
  },
  {
   "cell_type": "code",
   "execution_count": 21,
   "metadata": {
    "tags": []
   },
   "outputs": [],
   "source": [
    "def raw_query(vuln, language, recommend):\n",
    "    if language == 'maven':\n",
    "        prompt = 'Below is a Java vulnerability description. Please identify the software name affected by it. ' + \\\n",
    "            f'Input: {vuln[\"details\"]}. Top 1 search result is {recommend}. ' + \\\n",
    "            'What is affected packages? Please outputs as the format \"maven:group id:artifact id\". '\n",
    "    elif language == 'npm':\n",
    "        prompt = 'Below is a JavaScript vulnerability description. Please identify the software name affected by it. ' + \\\n",
    "            f'Input: {vuln[\"details\"]}. Top 1 search result is {recommend}. ' + \\\n",
    "            'What is affected packages? Please outputs as the format \"npm:library name\". '\n",
    "    elif language == 'pypi':\n",
    "        prompt = 'Below is a Python vulnerability description. Please identify the software name affected by it. ' + \\\n",
    "            f'Input: {vuln[\"details\"]}. Top 1 search result is {recommend}. ' + \\\n",
    "            'What is affected packages? Please outputs as the format \"pypi:library name\". '\n",
    "    elif language == 'go':\n",
    "        prompt = 'Below is a Go vulnerability description. Please identify the software name affected by it. ' + \\\n",
    "            f'Input: {vuln[\"details\"]}. Top 1 search result is {recommend}. ' + \\\n",
    "            'What is affected packages? Please outputs as the format \"go:library name\". '\n",
    "    return prompt\n",
    "#     return requestChatCompletion(prompt, t=0, engine='gpt-35-turbo')"
   ]
  },
  {
   "cell_type": "code",
   "execution_count": 21,
   "metadata": {},
   "outputs": [
    {
     "data": {
      "text/plain": [
       "['GHSA-24q2-59hm-rh9r', 'npm:@strapi/strapi']"
      ]
     },
     "execution_count": 21,
     "metadata": {},
     "output_type": "execute_result"
    }
   ],
   "source": [
    "npm_rerank['train'][0]"
   ]
  },
  {
   "cell_type": "code",
   "execution_count": 26,
   "metadata": {
    "tags": []
   },
   "outputs": [
    {
     "name": "stdout",
     "output_type": "stream",
     "text": [
      "npm\n",
      "pypi\n",
      "go\n"
     ]
    }
   ],
   "source": [
    "reports_combined = [npm_report, pypi_report, go_report]\n",
    "rerank_combined = [npm_rerank, pypi_rerank, go_rerank]\n",
    "for language, reports, rerank in zip(['npm', 'pypi', 'go'], reports_combined, rerank_combined):\n",
    "    print(language)\n",
    "    target_folder = '.'\n",
    "    target_path = os.path.join(target_folder, 'gpt4-inputs', f'raw_{language}_res.json')\n",
    "    total_res = []\n",
    "    reranks = rerank['train'] + rerank['valid'] + rerank['test']\n",
    "    for vuln, lib in zip(reports, reranks):\n",
    "        top_res = raw_query(vuln, language, lib[1])\n",
    "        total_res.append({'id': vuln['id'], 'raw_res': top_res})\n",
    "    with open(target_path, 'w') as f:\n",
    "        json.dump(total_res, f)"
   ]
  },
  {
   "cell_type": "code",
   "execution_count": null,
   "metadata": {
    "tags": []
   },
   "outputs": [],
   "source": [
    "npm_report[0]"
   ]
  },
  {
   "cell_type": "code",
   "execution_count": 13,
   "metadata": {},
   "outputs": [
    {
     "data": {
      "text/plain": [
       "[4308, 3193, 2237, 1351]"
      ]
     },
     "execution_count": 13,
     "metadata": {},
     "output_type": "execute_result"
    }
   ],
   "source": [
    "[len(item) for item in reports_combined]"
   ]
  },
  {
   "cell_type": "code",
   "execution_count": 41,
   "metadata": {},
   "outputs": [
    {
     "name": "stdout",
     "output_type": "stream",
     "text": [
      "Below is a Java vulnerability description. Please identify the software name affected by it. Input: A sandbox bypass vulnerability exists in Script Security Plugin 1.47 and earlier in groovy-sandbox/src/main/java/org/kohsuke/groovy/sandbox/SandboxTransformer.java that allows attackers with Job/Configure permission to execute arbitrary code on the Jenkins master JVM, if plugins using the Groovy sandbox are installed.. Top 3 search results are ['maven:com.samsungxr:script', 'maven:org.dkpro.script:dkpro-script-groovy', 'maven:org.picocontainer.script:picocontainer-script-groovy'] What is affected packages? Please outputs as the format \"maven:group id:artifact id\". \n"
     ]
    }
   ],
   "source": [
    "query(test[1], 3, 'top_k')"
   ]
  },
  {
   "cell_type": "code",
   "execution_count": null,
   "metadata": {},
   "outputs": [],
   "source": []
  },
  {
   "cell_type": "code",
   "execution_count": 11,
   "metadata": {},
   "outputs": [
    {
     "data": {
      "text/plain": [
       "dict_keys(['cve_id', 'desc', 'labels', 'top_k', 'rerank_k'])"
      ]
     },
     "execution_count": 11,
     "metadata": {},
     "output_type": "execute_result"
    }
   ],
   "source": [
    "test[0].keys()"
   ]
  },
  {
   "cell_type": "code",
   "execution_count": null,
   "metadata": {},
   "outputs": [],
   "source": [
    "Below is a Java vulnerability description. Please identify the software name affected by it. Input: Jenkins Mac Plugin 1.1.0 and earlier does not validate SSH host keys when connecting agents created by the plugin, enabling man-in-the-middle attacks.. Top 3 search results are ['maven:com.clovellytech:tsec-mac_2.12', 'maven:com.clovellytech:tsec-mac_2.13', 'maven:jenkins.plugin.assembla:assembla-jenkins']. What is affected packages? Please outputs as the format \"maven:group id:artifact id\". "
   ]
  },
  {
   "cell_type": "code",
   "execution_count": 42,
   "metadata": {},
   "outputs": [
    {
     "data": {
      "text/plain": [
       "['maven:org.kohsuke:groovy-sandbox']"
      ]
     },
     "execution_count": 42,
     "metadata": {},
     "output_type": "execute_result"
    }
   ],
   "source": [
    "test[1]['labels']"
   ]
  },
  {
   "cell_type": "code",
   "execution_count": 30,
   "metadata": {},
   "outputs": [],
   "source": [
    "with open(os.path.join(input_folder, '../maven_corpus_new.json'), 'r') as f:\n",
    "    maven_corpus = json.load(f)"
   ]
  },
  {
   "cell_type": "code",
   "execution_count": 31,
   "metadata": {},
   "outputs": [],
   "source": [
    "lib_names = set([lib['name'] for lib in maven_corpus])"
   ]
  },
  {
   "cell_type": "code",
   "execution_count": null,
   "metadata": {},
   "outputs": [],
   "source": []
  }
 ],
 "metadata": {
  "kernelspec": {
   "display_name": "Python 3 (ipykernel)",
   "language": "python",
   "name": "python3"
  },
  "language_info": {
   "codemirror_mode": {
    "name": "ipython",
    "version": 3
   },
   "file_extension": ".py",
   "mimetype": "text/x-python",
   "name": "python",
   "nbconvert_exporter": "python",
   "pygments_lexer": "ipython3",
   "version": "3.10.13"
  }
 },
 "nbformat": 4,
 "nbformat_minor": 4
}
